{
 "cells": [
  {
   "cell_type": "markdown",
   "id": "91204c62",
   "metadata": {},
   "source": []
  },
  {
   "cell_type": "markdown",
   "id": "5610a63d",
   "metadata": {},
   "source": [
    "# 🛠️ ETL Process Documentation - Hackathon Project\n",
    "\n",
    "## 📌 Project: Online Retail Transaction Analysis\n",
    "\n",
    "### 🎯 Objective\n",
    "Clean, transform, and prepare the *Online Retail* dataset for analysis by removing errors, correcting inconsistencies, and structuring the data for visualisation and insights.\n",
    "\n",
    "---"
   ]
  },
  {
   "cell_type": "code",
   "execution_count": null,
   "id": "1b464c0d",
   "metadata": {},
   "outputs": [],
   "source": [
    "import pandas as pd\n",
    "\n",
    "df = pd.read_csv(r'../data/online_retail.csv')"
   ]
  },
  {
   "cell_type": "markdown",
   "id": "fb7b58b5",
   "metadata": {},
   "source": [
    "#### Create a Data Dictionary of the imported dataset "
   ]
  },
  {
   "cell_type": "code",
   "execution_count": null,
   "id": "fa62d0bc",
   "metadata": {},
   "outputs": [],
   "source": [
    "# Custom Function to create a comprehensive data dictionary for Online Retail datasets\n",
    "# Takes a DataFrame and returns a data dictionary\n",
    "def create_data_dictionary(df):\n",
    "    # Official descriptions from UCI ML Repository Variables Table: https://archive.ics.uci.edu/dataset/352/online+retail\n",
    "    descriptions = {\n",
    "        'InvoiceNo': 'Invoice number - 6-digit integral number uniquely assigned to each transaction. If starts with letter \"c\", indicates a cancellation',\n",
    "        'StockCode': 'Product (item) code - 5-digit integral number uniquely assigned to each distinct product',\n",
    "        'Description': 'Product (item) name/description',\n",
    "        'Quantity': 'The quantities of each product (item) per transaction',\n",
    "        'InvoiceDate': 'Invoice date and time - the day and time when each transaction was generated',\n",
    "        'UnitPrice': 'Unit price - product price per unit in sterling (£)',\n",
    "        'CustomerID': '5-digit integral number uniquely assigned to each customer',\n",
    "        'Country': 'Country name - the name of the country where each customer resides'\n",
    "    }\n",
    "    \n",
    "    dictionary_data = []\n",
    "    for column in df.columns:\n",
    "        # Get 3 sample values (non-null)\n",
    "        sample_values = df[column].dropna().head(3).tolist()\n",
    "        sample_str = ', '.join([str(x) for x in sample_values])\n",
    "        \n",
    "        dictionary_data.append({\n",
    "            'Column': column,\n",
    "            'Data Type': str(df[column].dtype),\n",
    "            'Missing Values': df[column].isnull().sum(),\n",
    "            'Missing %': round((df[column].isnull().sum() / len(df)) * 100, 2),\n",
    "            'Unique Values': df[column].nunique(),\n",
    "            'Sample Values': sample_str,\n",
    "            'Description': descriptions.get(column, 'Custom/Engineered column - description needed')\n",
    "        })\n",
    "    return pd.DataFrame(dictionary_data)\n",
    "\n",
    "# Store the dictionary in a variable\n",
    "raw_data_dictionary = create_data_dictionary(df)\n",
    "\n",
    "# Display data dictionary\n",
    "raw_data_dictionary\n"
   ]
  },
  {
   "cell_type": "markdown",
   "id": "4342ffc4",
   "metadata": {},
   "source": [
    "#### Check Invoice Column\n",
    "\n",
    "- We have used tableau prep to quickly identify data conserns, we first noticed that InvoiceNo contains string values."
   ]
  },
  {
   "cell_type": "code",
   "execution_count": null,
   "id": "bf68ddae",
   "metadata": {},
   "outputs": [],
   "source": [
    "def analyse_invoice_column(df, column_name='InvoiceNo'):\n",
    "    \"\"\"\n",
    "    Analyse the InvoiceNo column to identify different invoice types\n",
    "    \n",
    "    Parameters:\n",
    "    df (pandas.DataFrame): The dataframe to analyze\n",
    "    column_name (str): The name of the invoice column to analyze (default: 'InvoiceNo')\n",
    "    \n",
    "    Prints analysis results including counts and sample values for regular and non-standard invoices.\n",
    "    \"\"\"\n",
    "    print(f\"Invoice Column records: {len(df)}\")\n",
    "    \n",
    "    # Check for different invoice patterns\n",
    "    regular_invoices = df[df[column_name].astype(str).str.match(r'^\\d{6}$')]\n",
    "    non_standard_invoices = df[~df[column_name].astype(str).str.match(r'^\\d{6}$')]\n",
    "    \n",
    "    print(f\"\\nRegular invoices (exactly 6 digits): {len(regular_invoices)} ({len(regular_invoices)/len(df)*100:.1f}%)\")\n",
    "    print(f\"Non-standard invoices (not exactly 6 digits): {len(non_standard_invoices)} ({len(non_standard_invoices)/len(df)*100:.1f}%)\")\n",
    "    \n",
    "    # Show sample invoice numbers for each type\n",
    "    print(\"\\nExpected invoice format:\")\n",
    "    print(regular_invoices[column_name].head(5).tolist())\n",
    "    \n",
    "    if len(non_standard_invoices) > 0:\n",
    "        print(\"\\nInvoices with string values:\")\n",
    "        print(non_standard_invoices[column_name].head(10).tolist())\n",
    "\n",
    "# Run the analysis on the current dataset\n",
    "analyse_invoice_column(df)"
   ]
  },
  {
   "cell_type": "markdown",
   "id": "bf890982",
   "metadata": {},
   "source": [
    "### Filter out rows where InvoiceNo contains 'C' (cancellations)\n",
    "- Dataset research from {[link](https://archive.ics.uci.edu/dataset/352/online+retail)} shows that invoice numbers begining with C are cancellations, these are not within the scope of our user stories and will be removed from the dataset."
   ]
  },
  {
   "cell_type": "code",
   "execution_count": null,
   "id": "24efdd15",
   "metadata": {},
   "outputs": [],
   "source": [
    "df = df[~df['InvoiceNo'].astype(str).str.contains('C', case=False, na=False)]\n",
    "analyse_invoice_column(df)"
   ]
  },
  {
   "cell_type": "markdown",
   "id": "fe3f61f3",
   "metadata": {},
   "source": [
    "### Filter out rows where InvoiceNo contains 'A' (Adjust bad debt)\n",
    "- Dataset research from tableau prep shows that A records all have the description \"Adjust bad debt\" which are outside of the scope of our analysis and will be removed."
   ]
  },
  {
   "cell_type": "code",
   "execution_count": null,
   "id": "e2353e54",
   "metadata": {},
   "outputs": [],
   "source": [
    "df = df[~df['InvoiceNo'].astype(str).str.contains('A', case=False, na=False)]\n",
    "analyse_invoice_column(df)"
   ]
  },
  {
   "cell_type": "markdown",
   "id": "eb30a56d",
   "metadata": {},
   "source": [
    "#### Or quantity is negative"
   ]
  },
  {
   "cell_type": "code",
   "execution_count": null,
   "id": "9348f8f0",
   "metadata": {},
   "outputs": [],
   "source": [
    "df = df[df['Quantity'] > 0]"
   ]
  },
  {
   "cell_type": "markdown",
   "id": "9db345cf",
   "metadata": {},
   "source": [
    "### Drop rows with null product descriptions"
   ]
  },
  {
   "cell_type": "code",
   "execution_count": null,
   "id": "3e3d2179",
   "metadata": {},
   "outputs": [],
   "source": [
    "df = df.dropna(subset=['Description'])"
   ]
  },
  {
   "cell_type": "markdown",
   "id": "eae02267",
   "metadata": {},
   "source": [
    "### Remove cancelled orders (already filtered out above)\n",
    "# Note: Invoices containing 'C' (cancellations) are already removed in the previous step"
   ]
  },
  {
   "cell_type": "code",
   "execution_count": null,
   "id": "69168016",
   "metadata": {},
   "outputs": [],
   "source": [
    "# This step is now redundant as we already filtered out invoices containing 'C' above\n",
    "# df = df[~df['InvoiceNo'].astype(str).str.contains('C', case=False, na=False)]"
   ]
  },
  {
   "cell_type": "markdown",
   "id": "2e6d0964",
   "metadata": {},
   "source": [
    "### Remove duplicates"
   ]
  },
  {
   "cell_type": "code",
   "execution_count": null,
   "id": "5d8f4a51",
   "metadata": {},
   "outputs": [],
   "source": [
    "df = df.drop_duplicates(subset=['InvoiceNo', 'StockCode', 'Quantity', 'CustomerID'])"
   ]
  },
  {
   "cell_type": "markdown",
   "id": "99dd3f57",
   "metadata": {},
   "source": [
    "### Remove missing or unspecified countries"
   ]
  },
  {
   "cell_type": "code",
   "execution_count": null,
   "id": "1adea5cf",
   "metadata": {},
   "outputs": [],
   "source": [
    "df = df[df['Country'].notna()]\n",
    "df = df[df['Country'] != 'Unspecified']"
   ]
  },
  {
   "cell_type": "markdown",
   "id": "29e809f1",
   "metadata": {},
   "source": [
    "### Re-analyze Invoice Column After Cleaning\n",
    "Now let's check the invoice column again after all our cleaning steps to see how the data looks."
   ]
  },
  {
   "cell_type": "code",
   "execution_count": null,
   "id": "f5dfdbd1",
   "metadata": {},
   "outputs": [],
   "source": [
    "# Use the function to re-analyze the invoice column after cleaning\n",
    "print(\"=== AFTER CLEANING ===\")\n",
    "analyse_invoice_column(df)"
   ]
  },
  {
   "cell_type": "markdown",
   "id": "e0eab8f6",
   "metadata": {},
   "source": [
    "### Save the cleaned dataset to CSV for visualisation"
   ]
  },
  {
   "cell_type": "code",
   "execution_count": null,
   "id": "dd3dde9d",
   "metadata": {},
   "outputs": [],
   "source": [
    "df.to_csv('../data/clean_online_retail.csv', index=False)"
   ]
  },
  {
   "cell_type": "markdown",
   "id": "b3798716",
   "metadata": {},
   "source": [
    "#### Create a Data Dictionary of the cleaned dataset "
   ]
  },
  {
   "cell_type": "code",
   "execution_count": null,
   "id": "f9e58fa5",
   "metadata": {},
   "outputs": [],
   "source": [
    "# Store the dictionary in a variable\n",
    "clean_data_dictionary = create_data_dictionary(df)\n",
    "\n",
    "# Display data dictionary\n",
    "clean_data_dictionary"
   ]
  }
 ],
 "metadata": {
  "kernelspec": {
   "display_name": ".venv",
   "language": "python",
   "name": "python3"
  },
  "language_info": {
   "codemirror_mode": {
    "name": "ipython",
    "version": 3
   },
   "file_extension": ".py",
   "mimetype": "text/x-python",
   "name": "python",
   "nbconvert_exporter": "python",
   "pygments_lexer": "ipython3",
   "version": "3.12.8"
  }
 },
 "nbformat": 4,
 "nbformat_minor": 5
}
