{
 "cells": [
  {
   "cell_type": "markdown",
   "id": "5610a63d",
   "metadata": {},
   "source": [
    "# Cleaning Process Documentation - Hackathon Project\n",
    "\n",
    "### Objective\n",
    "Clean, transform, and prepare the *Online Retail* dataset for analysis by removing errors, correcting inconsistencies, and structuring the data for visualisation and insights.\n",
    "\n",
    "---\n",
    "\n",
    "### Credits\n",
    "Tableau Prep flow was used alongside this notebook for quick data discovery and drill down\n",
    "\n",
    "---"
   ]
  },
  {
   "cell_type": "code",
   "execution_count": 64,
   "id": "1b464c0d",
   "metadata": {},
   "outputs": [],
   "source": [
    "import pandas as pd\n",
    "import seaborn as sns\n",
    "import matplotlib.pyplot as plt\n",
    "\n",
    "df = pd.read_csv(r'../data/online_retail.csv')"
   ]
  },
  {
   "cell_type": "markdown",
   "id": "fb7b58b5",
   "metadata": {},
   "source": [
    "#### Create a Data Dictionary of the imported dataset "
   ]
  },
  {
   "cell_type": "code",
   "execution_count": 65,
   "id": "fa62d0bc",
   "metadata": {},
   "outputs": [
    {
     "data": {
      "text/html": [
       "<div>\n",
       "<style scoped>\n",
       "    .dataframe tbody tr th:only-of-type {\n",
       "        vertical-align: middle;\n",
       "    }\n",
       "\n",
       "    .dataframe tbody tr th {\n",
       "        vertical-align: top;\n",
       "    }\n",
       "\n",
       "    .dataframe thead th {\n",
       "        text-align: right;\n",
       "    }\n",
       "</style>\n",
       "<table border=\"1\" class=\"dataframe\">\n",
       "  <thead>\n",
       "    <tr style=\"text-align: right;\">\n",
       "      <th></th>\n",
       "      <th>Column</th>\n",
       "      <th>Data Type</th>\n",
       "      <th>Missing Values</th>\n",
       "      <th>Missing %</th>\n",
       "      <th>Unique Values</th>\n",
       "      <th>Sample Values</th>\n",
       "      <th>Description</th>\n",
       "    </tr>\n",
       "  </thead>\n",
       "  <tbody>\n",
       "    <tr>\n",
       "      <th>0</th>\n",
       "      <td>InvoiceNo</td>\n",
       "      <td>object</td>\n",
       "      <td>0</td>\n",
       "      <td>0.00</td>\n",
       "      <td>25900</td>\n",
       "      <td>536365, 536365, 536365</td>\n",
       "      <td>Invoice number - 6-digit integral number uniqu...</td>\n",
       "    </tr>\n",
       "    <tr>\n",
       "      <th>1</th>\n",
       "      <td>StockCode</td>\n",
       "      <td>object</td>\n",
       "      <td>0</td>\n",
       "      <td>0.00</td>\n",
       "      <td>4070</td>\n",
       "      <td>85123A, 71053, 84406B</td>\n",
       "      <td>Product (item) code - 5-digit integral number ...</td>\n",
       "    </tr>\n",
       "    <tr>\n",
       "      <th>2</th>\n",
       "      <td>Description</td>\n",
       "      <td>object</td>\n",
       "      <td>1454</td>\n",
       "      <td>0.27</td>\n",
       "      <td>4223</td>\n",
       "      <td>WHITE HANGING HEART T-LIGHT HOLDER, WHITE META...</td>\n",
       "      <td>Product (item) name/description</td>\n",
       "    </tr>\n",
       "    <tr>\n",
       "      <th>3</th>\n",
       "      <td>Quantity</td>\n",
       "      <td>int64</td>\n",
       "      <td>0</td>\n",
       "      <td>0.00</td>\n",
       "      <td>722</td>\n",
       "      <td>6, 6, 8</td>\n",
       "      <td>The quantities of each product (item) per tran...</td>\n",
       "    </tr>\n",
       "    <tr>\n",
       "      <th>4</th>\n",
       "      <td>InvoiceDate</td>\n",
       "      <td>object</td>\n",
       "      <td>0</td>\n",
       "      <td>0.00</td>\n",
       "      <td>23260</td>\n",
       "      <td>2010-12-01 08:26:00, 2010-12-01 08:26:00, 2010...</td>\n",
       "      <td>Invoice date and time - the day and time when ...</td>\n",
       "    </tr>\n",
       "    <tr>\n",
       "      <th>5</th>\n",
       "      <td>UnitPrice</td>\n",
       "      <td>float64</td>\n",
       "      <td>0</td>\n",
       "      <td>0.00</td>\n",
       "      <td>1630</td>\n",
       "      <td>2.55, 3.39, 2.75</td>\n",
       "      <td>Unit price - product price per unit in sterlin...</td>\n",
       "    </tr>\n",
       "    <tr>\n",
       "      <th>6</th>\n",
       "      <td>CustomerID</td>\n",
       "      <td>int64</td>\n",
       "      <td>0</td>\n",
       "      <td>0.00</td>\n",
       "      <td>4372</td>\n",
       "      <td>17850, 17850, 17850</td>\n",
       "      <td>5-digit integral number uniquely assigned to e...</td>\n",
       "    </tr>\n",
       "    <tr>\n",
       "      <th>7</th>\n",
       "      <td>Country</td>\n",
       "      <td>object</td>\n",
       "      <td>0</td>\n",
       "      <td>0.00</td>\n",
       "      <td>38</td>\n",
       "      <td>United Kingdom, United Kingdom, United Kingdom</td>\n",
       "      <td>Country name - the name of the country where e...</td>\n",
       "    </tr>\n",
       "  </tbody>\n",
       "</table>\n",
       "</div>"
      ],
      "text/plain": [
       "        Column Data Type  Missing Values  Missing %  Unique Values  \\\n",
       "0    InvoiceNo    object               0       0.00          25900   \n",
       "1    StockCode    object               0       0.00           4070   \n",
       "2  Description    object            1454       0.27           4223   \n",
       "3     Quantity     int64               0       0.00            722   \n",
       "4  InvoiceDate    object               0       0.00          23260   \n",
       "5    UnitPrice   float64               0       0.00           1630   \n",
       "6   CustomerID     int64               0       0.00           4372   \n",
       "7      Country    object               0       0.00             38   \n",
       "\n",
       "                                       Sample Values  \\\n",
       "0                             536365, 536365, 536365   \n",
       "1                              85123A, 71053, 84406B   \n",
       "2  WHITE HANGING HEART T-LIGHT HOLDER, WHITE META...   \n",
       "3                                            6, 6, 8   \n",
       "4  2010-12-01 08:26:00, 2010-12-01 08:26:00, 2010...   \n",
       "5                                   2.55, 3.39, 2.75   \n",
       "6                                17850, 17850, 17850   \n",
       "7     United Kingdom, United Kingdom, United Kingdom   \n",
       "\n",
       "                                         Description  \n",
       "0  Invoice number - 6-digit integral number uniqu...  \n",
       "1  Product (item) code - 5-digit integral number ...  \n",
       "2                    Product (item) name/description  \n",
       "3  The quantities of each product (item) per tran...  \n",
       "4  Invoice date and time - the day and time when ...  \n",
       "5  Unit price - product price per unit in sterlin...  \n",
       "6  5-digit integral number uniquely assigned to e...  \n",
       "7  Country name - the name of the country where e...  "
      ]
     },
     "execution_count": 65,
     "metadata": {},
     "output_type": "execute_result"
    }
   ],
   "source": [
    "# Custom Function to create a comprehensive data dictionary for Online Retail datasets\n",
    "# Takes a DataFrame and returns a data dictionary\n",
    "def create_data_dictionary(df):\n",
    "    # Official descriptions from UCI ML Repository Variables Table: https://archive.ics.uci.edu/dataset/352/online+retail\n",
    "    descriptions = {\n",
    "        'InvoiceNo': 'Invoice number - 6-digit integral number uniquely assigned to each transaction. If starts with letter \"c\", indicates a cancellation',\n",
    "        'StockCode': 'Product (item) code - 5-digit integral number uniquely assigned to each distinct product',\n",
    "        'Description': 'Product (item) name/description',\n",
    "        'Quantity': 'The quantities of each product (item) per transaction',\n",
    "        'InvoiceDate': 'Invoice date and time - the day and time when each transaction was generated',\n",
    "        'UnitPrice': 'Unit price - product price per unit in sterling (£)',\n",
    "        'CustomerID': '5-digit integral number uniquely assigned to each customer',\n",
    "        'Country': 'Country name - the name of the country where each customer resides'\n",
    "    }\n",
    "    \n",
    "    dictionary_data = []\n",
    "    for column in df.columns:\n",
    "        # Get 3 sample values (non-null)\n",
    "        sample_values = df[column].dropna().head(3).tolist()\n",
    "        sample_str = ', '.join([str(x) for x in sample_values])\n",
    "        \n",
    "        dictionary_data.append({\n",
    "            'Column': column,\n",
    "            'Data Type': str(df[column].dtype),\n",
    "            'Missing Values': df[column].isnull().sum(),\n",
    "            'Missing %': round((df[column].isnull().sum() / len(df)) * 100, 2),\n",
    "            'Unique Values': df[column].nunique(),\n",
    "            'Sample Values': sample_str,\n",
    "            'Description': descriptions.get(column, 'Custom/Engineered column - description needed')\n",
    "        })\n",
    "    return pd.DataFrame(dictionary_data)\n",
    "\n",
    "# Store the dictionary in a variable\n",
    "raw_data_dictionary = create_data_dictionary(df)\n",
    "\n",
    "# Display data dictionary\n",
    "raw_data_dictionary\n"
   ]
  },
  {
   "cell_type": "markdown",
   "id": "4342ffc4",
   "metadata": {},
   "source": [
    "#### Check Invoice Column\n",
    "\n",
    "- We have used tableau prep to quickly identify data conserns, we first noticed that InvoiceNo contains string values."
   ]
  },
  {
   "cell_type": "code",
   "execution_count": 66,
   "id": "bf68ddae",
   "metadata": {},
   "outputs": [
    {
     "name": "stdout",
     "output_type": "stream",
     "text": [
      "Invoice Column records: 541909\n",
      "\n",
      "Regular invoices (exactly 6 digits): 532618 (98.3%)\n",
      "Non-standard invoices (not exactly 6 digits): 9291 (1.7%)\n",
      "\n",
      "Expected invoice format:\n",
      "['536365', '536365', '536365', '536365', '536365']\n",
      "\n",
      "Invoices with string values:\n",
      "['C536379', 'C536383', 'C536391', 'C536391', 'C536391', 'C536391', 'C536391', 'C536391', 'C536391', 'C536506']\n",
      "\n",
      "Regular invoices (exactly 6 digits): 532618 (98.3%)\n",
      "Non-standard invoices (not exactly 6 digits): 9291 (1.7%)\n",
      "\n",
      "Expected invoice format:\n",
      "['536365', '536365', '536365', '536365', '536365']\n",
      "\n",
      "Invoices with string values:\n",
      "['C536379', 'C536383', 'C536391', 'C536391', 'C536391', 'C536391', 'C536391', 'C536391', 'C536391', 'C536506']\n"
     ]
    }
   ],
   "source": [
    "def analyse_invoice_column(df, column_name='InvoiceNo'):\n",
    "    \"\"\"\n",
    "    Analyse the InvoiceNo column to identify different invoice types\n",
    "    \n",
    "    Parameters:\n",
    "    df (pandas.DataFrame): The dataframe to analyze\n",
    "    column_name (str): The name of the invoice column to analyze (default: 'InvoiceNo')\n",
    "    \n",
    "    Prints analysis results including counts and sample values for regular and non-standard invoices.\n",
    "    \"\"\"\n",
    "    print(f\"Invoice Column records: {len(df)}\")\n",
    "    \n",
    "    # Check for different invoice patterns\n",
    "    regular_invoices = df[df[column_name].astype(str).str.match(r'^\\d{6}$')]\n",
    "    non_standard_invoices = df[~df[column_name].astype(str).str.match(r'^\\d{6}$')]\n",
    "    \n",
    "    print(f\"\\nRegular invoices (exactly 6 digits): {len(regular_invoices)} ({len(regular_invoices)/len(df)*100:.1f}%)\")\n",
    "    print(f\"Non-standard invoices (not exactly 6 digits): {len(non_standard_invoices)} ({len(non_standard_invoices)/len(df)*100:.1f}%)\")\n",
    "    \n",
    "    # Show sample invoice numbers for each type\n",
    "    print(\"\\nExpected invoice format:\")\n",
    "    print(regular_invoices[column_name].head(5).tolist())\n",
    "    \n",
    "    if len(non_standard_invoices) > 0:\n",
    "        print(\"\\nInvoices with string values:\")\n",
    "        print(non_standard_invoices[column_name].head(10).tolist())\n",
    "\n",
    "# Run the analysis on the current dataset\n",
    "analyse_invoice_column(df)"
   ]
  },
  {
   "cell_type": "markdown",
   "id": "bf890982",
   "metadata": {},
   "source": [
    "### Filter out rows where InvoiceNo contains 'C' (cancellations)\n",
    "- Dataset research from {[link](https://archive.ics.uci.edu/dataset/352/online+retail)} shows that invoice numbers begining with C are cancellations, these are not within the scope of our user stories and will be removed from the dataset."
   ]
  },
  {
   "cell_type": "code",
   "execution_count": 67,
   "id": "24efdd15",
   "metadata": {},
   "outputs": [
    {
     "name": "stdout",
     "output_type": "stream",
     "text": [
      "Invoice Column records: 532621\n",
      "\n",
      "Regular invoices (exactly 6 digits): 532618 (100.0%)\n",
      "Non-standard invoices (not exactly 6 digits): 3 (0.0%)\n",
      "\n",
      "Expected invoice format:\n",
      "['536365', '536365', '536365', '536365', '536365']\n",
      "\n",
      "Invoices with string values:\n",
      "['A563185', 'A563186', 'A563187']\n",
      "\n",
      "Regular invoices (exactly 6 digits): 532618 (100.0%)\n",
      "Non-standard invoices (not exactly 6 digits): 3 (0.0%)\n",
      "\n",
      "Expected invoice format:\n",
      "['536365', '536365', '536365', '536365', '536365']\n",
      "\n",
      "Invoices with string values:\n",
      "['A563185', 'A563186', 'A563187']\n"
     ]
    }
   ],
   "source": [
    "df = df[~df['InvoiceNo'].astype(str).str.contains('C', case=False, na=False)]\n",
    "analyse_invoice_column(df)"
   ]
  },
  {
   "cell_type": "markdown",
   "id": "fe3f61f3",
   "metadata": {},
   "source": [
    "### Filter out rows where InvoiceNo contains 'A' (Adjust bad debt)\n",
    "- Dataset research from tableau prep shows that A records all have the description \"Adjust bad debt\" which are outside of the scope of our analysis and will be removed."
   ]
  },
  {
   "cell_type": "code",
   "execution_count": 68,
   "id": "e2353e54",
   "metadata": {},
   "outputs": [
    {
     "name": "stdout",
     "output_type": "stream",
     "text": [
      "Invoice Column records: 532618\n",
      "\n",
      "Regular invoices (exactly 6 digits): 532618 (100.0%)\n",
      "Non-standard invoices (not exactly 6 digits): 0 (0.0%)\n",
      "\n",
      "Expected invoice format:\n",
      "['536365', '536365', '536365', '536365', '536365']\n",
      "\n",
      "Regular invoices (exactly 6 digits): 532618 (100.0%)\n",
      "Non-standard invoices (not exactly 6 digits): 0 (0.0%)\n",
      "\n",
      "Expected invoice format:\n",
      "['536365', '536365', '536365', '536365', '536365']\n"
     ]
    }
   ],
   "source": [
    "df = df[~df['InvoiceNo'].astype(str).str.contains('A', case=False, na=False)]\n",
    "analyse_invoice_column(df)"
   ]
  },
  {
   "cell_type": "markdown",
   "id": "eb30a56d",
   "metadata": {},
   "source": [
    "### Filter out rows with zero or negative quantities\n",
    "- Zero and negative quantities typically represent stock adjustments, write-offs, or inventory corrections rather than actual sales transactions\n",
    "- These records are not relevant for our retail transaction analysis as they don't represent customer purchases\n",
    "- Removing these ensures we focus only on genuine sales data for our analysis"
   ]
  },
  {
   "cell_type": "code",
   "execution_count": 69,
   "id": "9348f8f0",
   "metadata": {},
   "outputs": [],
   "source": [
    "df = df[df['Quantity'] > 0]"
   ]
  },
  {
   "cell_type": "code",
   "execution_count": null,
   "id": "455df5b9",
   "metadata": {},
   "outputs": [],
   "source": []
  },
  {
   "cell_type": "markdown",
   "id": "c9de0022",
   "metadata": {},
   "source": [
    "### Filter out adjustments and write offs\n",
    "- Exploring the data with Tableau Prep has revealed that ajustments and write off actions appear to be hand typed into the product description feild, the product description is otherwise standardised to be in upper case except for cases where a measurement is included in the product name such as: cm, g, 45x45."
   ]
  },
  {
   "cell_type": "code",
   "execution_count": 70,
   "id": "0788bc85",
   "metadata": {},
   "outputs": [
    {
     "name": "stdout",
     "output_type": "stream",
     "text": [
      "Rows remaining after filtering descriptions: 530071\n"
     ]
    }
   ],
   "source": [
    "# Filter out rows where Description doesn't have at least 2 consecutive uppercase characters\n",
    "# This removes manual adjustments and write-offs that are typically lowercase or mixed case\n",
    "df = df[df['Description'].str.contains(r'[A-Z]{2,}', na=False)]\n",
    "\n",
    "print(f\"Rows remaining after filtering descriptions: {len(df)}\")"
   ]
  },
  {
   "cell_type": "markdown",
   "id": "82efe253",
   "metadata": {},
   "source": [
    "### Filter out POSTAGE, DOTCOM Postage and Manual"
   ]
  },
  {
   "cell_type": "code",
   "execution_count": null,
   "id": "ed6d8029",
   "metadata": {},
   "outputs": [],
   "source": []
  },
  {
   "cell_type": "markdown",
   "id": "ce8bb1f7",
   "metadata": {},
   "source": [
    "### Check for nulls after initial cleaning steps to check quality"
   ]
  },
  {
   "cell_type": "code",
   "execution_count": 71,
   "id": "4613b3d0",
   "metadata": {},
   "outputs": [
    {
     "name": "stdout",
     "output_type": "stream",
     "text": [
      "Null values in cleaned dataset:\n",
      "InvoiceNo      0\n",
      "StockCode      0\n",
      "Description    0\n",
      "Quantity       0\n",
      "InvoiceDate    0\n",
      "UnitPrice      0\n",
      "CustomerID     0\n",
      "Country        0\n",
      "dtype: int64\n"
     ]
    }
   ],
   "source": [
    "# Check for null values in the cleaned dataset\n",
    "print(\"Null values in cleaned dataset:\")\n",
    "print(df.isnull().sum())"
   ]
  },
  {
   "cell_type": "markdown",
   "id": "1c93e6e8",
   "metadata": {},
   "source": [
    "### Check for duplicate rows"
   ]
  },
  {
   "cell_type": "code",
   "execution_count": 72,
   "id": "9b3fad50",
   "metadata": {},
   "outputs": [
    {
     "name": "stdout",
     "output_type": "stream",
     "text": [
      "Duplicate invoice lines (excluding InvoiceDate): 5296\n",
      "Duplicate invoice lines (including InvoiceDate): 5294\n",
      "Difference: 2\n"
     ]
    }
   ],
   "source": [
    "# Check for duplicates using the same columns that will be used for removal\n",
    "duplicates_check = df.duplicated(subset=['InvoiceNo', 'StockCode', 'Quantity', 'CustomerID']).sum()\n",
    "print(f\"Duplicate invoice lines (excluding InvoiceDate): {duplicates_check}\")\n",
    "\n",
    "# Also check with InvoiceDate for comparison\n",
    "duplicates_with_date = df.duplicated(subset=['InvoiceNo', 'StockCode', 'Quantity', 'CustomerID', 'InvoiceDate']).sum()\n",
    "print(f\"Duplicate invoice lines (including InvoiceDate): {duplicates_with_date}\")\n",
    "\n",
    "# Show the difference\n",
    "print(f\"Difference: {duplicates_check - duplicates_with_date}\")"
   ]
  },
  {
   "cell_type": "markdown",
   "id": "b4bd4449",
   "metadata": {},
   "source": [
    "This duplicate check validates if a duplicate order is a repeat order or if the database has two records for the same order, here we find no duplciates that need to be removed."
   ]
  },
  {
   "cell_type": "markdown",
   "id": "99dd3f57",
   "metadata": {},
   "source": [
    "### Missing or unspecified countries"
   ]
  },
  {
   "cell_type": "code",
   "execution_count": 73,
   "id": "75b81c91",
   "metadata": {},
   "outputs": [
    {
     "name": "stdout",
     "output_type": "stream",
     "text": [
      "Unspecified countries: 446 (0.08%)\n",
      "Total problematic country records: 446 (0.08%)\n"
     ]
    }
   ],
   "source": [
    "# Check for missing countries and 'Unspecified' entries\n",
    "missing_countries = df['Country'].isnull().sum()\n",
    "unspecified_countries = (df['Country'] == 'Unspecified').sum()\n",
    "total_records = len(df)\n",
    "\n",
    "print(f\"Unspecified countries: {unspecified_countries} ({unspecified_countries/total_records*100:.2f}%)\")\n",
    "print(f\"Total problematic country records: {missing_countries + unspecified_countries} ({(missing_countries + unspecified_countries)/total_records*100:.2f}%)\")"
   ]
  },
  {
   "cell_type": "markdown",
   "id": "5b8614a0",
   "metadata": {},
   "source": [
    "### Remove POSTAGE, DOTCOM POSTAGE, Manual"
   ]
  },
  {
   "cell_type": "code",
   "execution_count": 74,
   "id": "1628acb1",
   "metadata": {},
   "outputs": [
    {
     "name": "stdout",
     "output_type": "stream",
     "text": [
      "Removed 1834 rows containing postage/manual entries (0.35%)\n",
      "Rows remaining: 528,237\n"
     ]
    }
   ],
   "source": [
    "# Remove POSTAGE, DOTCOM POSTAGE, and Manual entries\n",
    "postage_keywords = ['POSTAGE', 'DOTCOM POSTAGE', 'Manual']\n",
    "\n",
    "initial_count = len(df)\n",
    "\n",
    "# Filter out rows containing any of the postage keywords in Description\n",
    "for keyword in postage_keywords:\n",
    "    df = df[~df['Description'].str.contains(keyword, case=False, na=False)]\n",
    "\n",
    "removed_count = initial_count - len(df)\n",
    "print(f\"Removed {removed_count} rows containing postage/manual entries ({removed_count/initial_count*100:.2f}%)\")\n",
    "print(f\"Rows remaining: {len(df):,}\")"
   ]
  },
  {
   "cell_type": "markdown",
   "id": "cce25f18",
   "metadata": {},
   "source": [
    "Some orders are assigned to Unspecified countries, for our analysis we want to account for the location of our orders for our geographic analysis and these make up less than 0.1 % of the dataset."
   ]
  },
  {
   "cell_type": "code",
   "execution_count": 75,
   "id": "1adea5cf",
   "metadata": {},
   "outputs": [],
   "source": [
    "df = df[df['Country'].notna()]\n",
    "df = df[df['Country'] != 'Unspecified']"
   ]
  },
  {
   "cell_type": "markdown",
   "id": "29e809f1",
   "metadata": {},
   "source": [
    "### Re-analyze Invoice Column After Cleaning\n",
    "Now let's check the invoice column again after all our cleaning steps to see how the data looks."
   ]
  },
  {
   "cell_type": "code",
   "execution_count": 76,
   "id": "f5dfdbd1",
   "metadata": {},
   "outputs": [
    {
     "name": "stdout",
     "output_type": "stream",
     "text": [
      "=== AFTER CLEANING ===\n",
      "Invoice Column records: 527791\n",
      "\n",
      "Regular invoices (exactly 6 digits): 527791 (100.0%)\n",
      "Non-standard invoices (not exactly 6 digits): 0 (0.0%)\n",
      "\n",
      "Expected invoice format:\n",
      "['536365', '536365', '536365', '536365', '536365']\n",
      "\n",
      "Regular invoices (exactly 6 digits): 527791 (100.0%)\n",
      "Non-standard invoices (not exactly 6 digits): 0 (0.0%)\n",
      "\n",
      "Expected invoice format:\n",
      "['536365', '536365', '536365', '536365', '536365']\n"
     ]
    }
   ],
   "source": [
    "# Use the function to re-analyze the invoice column after cleaning\n",
    "print(\"=== AFTER CLEANING ===\")\n",
    "analyse_invoice_column(df)"
   ]
  },
  {
   "cell_type": "markdown",
   "id": "229b4ecd",
   "metadata": {},
   "source": [
    "### Convert InvoiceNo to Int"
   ]
  },
  {
   "cell_type": "code",
   "execution_count": 77,
   "id": "d589460f",
   "metadata": {},
   "outputs": [
    {
     "name": "stdout",
     "output_type": "stream",
     "text": [
      "InvoiceNo data type after conversion: int64\n",
      "Sample InvoiceNo values: [536365, 536365, 536365, 536365, 536365]\n"
     ]
    }
   ],
   "source": [
    "# Convert InvoiceNo from object to integer\n",
    "df['InvoiceNo'] = df['InvoiceNo'].astype(int)\n",
    "\n",
    "print(f\"InvoiceNo data type after conversion: {df['InvoiceNo'].dtype}\")\n",
    "print(f\"Sample InvoiceNo values: {df['InvoiceNo'].head().tolist()}\")"
   ]
  },
  {
   "cell_type": "markdown",
   "id": "7b3d3dc9",
   "metadata": {},
   "source": [
    "### Convert InvoiceDate to DateTime"
   ]
  },
  {
   "cell_type": "code",
   "execution_count": 78,
   "id": "095e22b5",
   "metadata": {},
   "outputs": [
    {
     "name": "stdout",
     "output_type": "stream",
     "text": [
      "InvoiceDate data type after conversion: datetime64[ns]\n",
      "Sample InvoiceDate values: [Timestamp('2010-12-01 08:26:00'), Timestamp('2010-12-01 08:26:00'), Timestamp('2010-12-01 08:26:00'), Timestamp('2010-12-01 08:26:00'), Timestamp('2010-12-01 08:26:00')]\n",
      "Date range: 2010-12-01 08:26:00 to 2011-12-09 12:50:00\n"
     ]
    }
   ],
   "source": [
    "# Convert InvoiceDate from object (string) to datetime for proper time-based analysis\n",
    "df['InvoiceDate'] = pd.to_datetime(df['InvoiceDate'])\n",
    "\n",
    "print(f\"InvoiceDate data type after conversion: {df['InvoiceDate'].dtype}\")\n",
    "print(f\"Sample InvoiceDate values: {df['InvoiceDate'].head().tolist()}\")\n",
    "print(f\"Date range: {df['InvoiceDate'].min()} to {df['InvoiceDate'].max()}\")"
   ]
  },
  {
   "cell_type": "markdown",
   "id": "b3798716",
   "metadata": {},
   "source": [
    "#### Create a Data Dictionary of the cleaned dataset "
   ]
  },
  {
   "cell_type": "code",
   "execution_count": 79,
   "id": "f9e58fa5",
   "metadata": {},
   "outputs": [
    {
     "data": {
      "text/html": [
       "<div>\n",
       "<style scoped>\n",
       "    .dataframe tbody tr th:only-of-type {\n",
       "        vertical-align: middle;\n",
       "    }\n",
       "\n",
       "    .dataframe tbody tr th {\n",
       "        vertical-align: top;\n",
       "    }\n",
       "\n",
       "    .dataframe thead th {\n",
       "        text-align: right;\n",
       "    }\n",
       "</style>\n",
       "<table border=\"1\" class=\"dataframe\">\n",
       "  <thead>\n",
       "    <tr style=\"text-align: right;\">\n",
       "      <th></th>\n",
       "      <th>Column</th>\n",
       "      <th>Data Type</th>\n",
       "      <th>Missing Values</th>\n",
       "      <th>Missing %</th>\n",
       "      <th>Unique Values</th>\n",
       "      <th>Sample Values</th>\n",
       "      <th>Description</th>\n",
       "    </tr>\n",
       "  </thead>\n",
       "  <tbody>\n",
       "    <tr>\n",
       "      <th>0</th>\n",
       "      <td>InvoiceNo</td>\n",
       "      <td>int64</td>\n",
       "      <td>0</td>\n",
       "      <td>0.0</td>\n",
       "      <td>19786</td>\n",
       "      <td>536365, 536365, 536365</td>\n",
       "      <td>Invoice number - 6-digit integral number uniqu...</td>\n",
       "    </tr>\n",
       "    <tr>\n",
       "      <th>1</th>\n",
       "      <td>StockCode</td>\n",
       "      <td>object</td>\n",
       "      <td>0</td>\n",
       "      <td>0.0</td>\n",
       "      <td>3906</td>\n",
       "      <td>85123A, 71053, 84406B</td>\n",
       "      <td>Product (item) code - 5-digit integral number ...</td>\n",
       "    </tr>\n",
       "    <tr>\n",
       "      <th>2</th>\n",
       "      <td>Description</td>\n",
       "      <td>object</td>\n",
       "      <td>0</td>\n",
       "      <td>0.0</td>\n",
       "      <td>4014</td>\n",
       "      <td>WHITE HANGING HEART T-LIGHT HOLDER, WHITE META...</td>\n",
       "      <td>Product (item) name/description</td>\n",
       "    </tr>\n",
       "    <tr>\n",
       "      <th>3</th>\n",
       "      <td>Quantity</td>\n",
       "      <td>int64</td>\n",
       "      <td>0</td>\n",
       "      <td>0.0</td>\n",
       "      <td>376</td>\n",
       "      <td>6, 6, 8</td>\n",
       "      <td>The quantities of each product (item) per tran...</td>\n",
       "    </tr>\n",
       "    <tr>\n",
       "      <th>4</th>\n",
       "      <td>InvoiceDate</td>\n",
       "      <td>datetime64[ns]</td>\n",
       "      <td>0</td>\n",
       "      <td>0.0</td>\n",
       "      <td>18345</td>\n",
       "      <td>2010-12-01 08:26:00, 2010-12-01 08:26:00, 2010...</td>\n",
       "      <td>Invoice date and time - the day and time when ...</td>\n",
       "    </tr>\n",
       "    <tr>\n",
       "      <th>5</th>\n",
       "      <td>UnitPrice</td>\n",
       "      <td>float64</td>\n",
       "      <td>0</td>\n",
       "      <td>0.0</td>\n",
       "      <td>501</td>\n",
       "      <td>2.55, 3.39, 2.75</td>\n",
       "      <td>Unit price - product price per unit in sterlin...</td>\n",
       "    </tr>\n",
       "    <tr>\n",
       "      <th>6</th>\n",
       "      <td>CustomerID</td>\n",
       "      <td>int64</td>\n",
       "      <td>0</td>\n",
       "      <td>0.0</td>\n",
       "      <td>4331</td>\n",
       "      <td>17850, 17850, 17850</td>\n",
       "      <td>5-digit integral number uniquely assigned to e...</td>\n",
       "    </tr>\n",
       "    <tr>\n",
       "      <th>7</th>\n",
       "      <td>Country</td>\n",
       "      <td>object</td>\n",
       "      <td>0</td>\n",
       "      <td>0.0</td>\n",
       "      <td>37</td>\n",
       "      <td>United Kingdom, United Kingdom, United Kingdom</td>\n",
       "      <td>Country name - the name of the country where e...</td>\n",
       "    </tr>\n",
       "  </tbody>\n",
       "</table>\n",
       "</div>"
      ],
      "text/plain": [
       "        Column       Data Type  Missing Values  Missing %  Unique Values  \\\n",
       "0    InvoiceNo           int64               0        0.0          19786   \n",
       "1    StockCode          object               0        0.0           3906   \n",
       "2  Description          object               0        0.0           4014   \n",
       "3     Quantity           int64               0        0.0            376   \n",
       "4  InvoiceDate  datetime64[ns]               0        0.0          18345   \n",
       "5    UnitPrice         float64               0        0.0            501   \n",
       "6   CustomerID           int64               0        0.0           4331   \n",
       "7      Country          object               0        0.0             37   \n",
       "\n",
       "                                       Sample Values  \\\n",
       "0                             536365, 536365, 536365   \n",
       "1                              85123A, 71053, 84406B   \n",
       "2  WHITE HANGING HEART T-LIGHT HOLDER, WHITE META...   \n",
       "3                                            6, 6, 8   \n",
       "4  2010-12-01 08:26:00, 2010-12-01 08:26:00, 2010...   \n",
       "5                                   2.55, 3.39, 2.75   \n",
       "6                                17850, 17850, 17850   \n",
       "7     United Kingdom, United Kingdom, United Kingdom   \n",
       "\n",
       "                                         Description  \n",
       "0  Invoice number - 6-digit integral number uniqu...  \n",
       "1  Product (item) code - 5-digit integral number ...  \n",
       "2                    Product (item) name/description  \n",
       "3  The quantities of each product (item) per tran...  \n",
       "4  Invoice date and time - the day and time when ...  \n",
       "5  Unit price - product price per unit in sterlin...  \n",
       "6  5-digit integral number uniquely assigned to e...  \n",
       "7  Country name - the name of the country where e...  "
      ]
     },
     "execution_count": 79,
     "metadata": {},
     "output_type": "execute_result"
    }
   ],
   "source": [
    "# Store the dictionary in a variable\n",
    "clean_data_dictionary = create_data_dictionary(df)\n",
    "\n",
    "# Display data dictionary\n",
    "clean_data_dictionary"
   ]
  },
  {
   "cell_type": "markdown",
   "id": "b8b32e29",
   "metadata": {},
   "source": [
    "\n",
    "## Outlier Analysis and Visualisation\n",
    "\n",
    "This section provides a simplified approach to outlier analysis by showing the overall data distributions without customer segmentation. The visualisation includes:\n",
    "\n",
    "- **Histograms**: Show the frequency distribution of Quantity and UnitPrice across the entire dataset\n",
    "- **Boxplots**: Display the quartiles, median, and outliers for both variables\n",
    "- **Summary Statistics**: Key metrics including dataset size, min/max/mean values\n",
    "\n",
    "### Key Findings on Outliers\n",
    "\n",
    "**Notable Data Quality Issue**: The two largest quantity outliers in the dataset represent incorrectly placed orders for massive quantities that were cancelled within 30 minutes of being placed. These orders appear to be data entry errors or system issues rather than genuine customer transactions.\n",
    "**Impact on Analysis**: These extreme outliers significantly skew the distribution and statistical measures, making it essential to identify and handle them appropriately during the cleaning process.\n",
    "\n",
    "The analysis helps identify the extent of outliers and their impact on the overall data distribution, informing decisions about outlier removal strategies."
   ]
  },
  {
   "cell_type": "code",
   "execution_count": 80,
   "id": "8a3f3ebd",
   "metadata": {},
   "outputs": [
    {
     "data": {
      "image/png": "[encoded data removed]",
      "text/plain": [
       "<Figure size 1500x1000 with 4 Axes>"
      ]
     },
     "metadata": {},
     "output_type": "display_data"
    },
    {
     "name": "stdout",
     "output_type": "stream",
     "text": [
      "\n",
      "Summary Statistics Before Outlier Removal:\n",
      "Dataset size: 527,791 records\n",
      "Quantity - Min: 1, Max: 80995, Mean: 10.59\n",
      "UnitPrice - Min: £0.00, Max: £13541.33, Mean: £3.30\n"
     ]
    }
   ],
   "source": [
    "def plot_outlier_analysis(df, title_suffix=\"\"):\n",
    "    \"\"\"\n",
    "    Create a 2x2 subplot showing distribution and boxplots for Quantity and UnitPrice\n",
    "    \n",
    "    Parameters:\n",
    "    df (pandas.DataFrame): The dataframe to analyse\n",
    "    title_suffix (str): Additional text to add to the main title (e.g., \"Before Cleaning\", \"After Cleaning\")\n",
    "    \"\"\"\n",
    "    plt.style.use('default')\n",
    "    fig, axes = plt.subplots(2, 2, figsize=(15, 10))\n",
    "    \n",
    "    main_title = f'Outlier Analysis - Online Retail Dataset{\" \" + title_suffix if title_suffix else \"\"}'\n",
    "    fig.suptitle(main_title, fontsize=16)\n",
    "\n",
    "    # 1. Quantity distribution\n",
    "    axes[0, 0].hist(df['Quantity'], bins=50, edgecolor='black', alpha=0.7, color='skyblue')\n",
    "    axes[0, 0].set_title('Quantity Distribution')\n",
    "    axes[0, 0].set_xlabel('Quantity')\n",
    "    axes[0, 0].set_ylabel('Frequency')\n",
    "    axes[0, 0].grid(True, alpha=0.3)\n",
    "\n",
    "    # 2. Unit Price distribution\n",
    "    axes[0, 1].hist(df['UnitPrice'], bins=50, edgecolor='black', alpha=0.7, color='lightcoral')\n",
    "    axes[0, 1].set_title('Unit Price Distribution')\n",
    "    axes[0, 1].set_xlabel('Unit Price (£)')\n",
    "    axes[0, 1].set_ylabel('Frequency')\n",
    "    axes[0, 1].grid(True, alpha=0.3)\n",
    "\n",
    "    # 3. Quantity boxplot\n",
    "    axes[1, 0].boxplot(df['Quantity'], patch_artist=True, boxprops=dict(facecolor='skyblue', alpha=0.7))\n",
    "    axes[1, 0].set_title('Quantity Boxplot')\n",
    "    axes[1, 0].set_ylabel('Quantity')\n",
    "    axes[1, 0].grid(True, alpha=0.3)\n",
    "\n",
    "    # 4. Unit Price boxplot\n",
    "    axes[1, 1].boxplot(df['UnitPrice'], patch_artist=True, boxprops=dict(facecolor='lightcoral', alpha=0.7))\n",
    "    axes[1, 1].set_title('Unit Price Boxplot')\n",
    "    axes[1, 1].set_ylabel('Unit Price (£)')\n",
    "    axes[1, 1].grid(True, alpha=0.3)\n",
    "\n",
    "    # Add summary statistics as text\n",
    "    fig.text(0.02, 0.02, f'Dataset size: {len(df):,} records', fontsize=10, \n",
    "             bbox=dict(boxstyle=\"round,pad=0.3\", facecolor=\"lightgrey\", alpha=0.8))\n",
    "\n",
    "    plt.tight_layout()\n",
    "    plt.show()\n",
    "    \n",
    "    # Print summary statistics\n",
    "    print(f\"\\nSummary Statistics {title_suffix}:\")\n",
    "    print(f\"Dataset size: {len(df):,} records\")\n",
    "    print(f\"Quantity - Min: {df['Quantity'].min()}, Max: {df['Quantity'].max()}, Mean: {df['Quantity'].mean():.2f}\")\n",
    "    print(f\"UnitPrice - Min: £{df['UnitPrice'].min():.2f}, Max: £{df['UnitPrice'].max():.2f}, Mean: £{df['UnitPrice'].mean():.2f}\")\n",
    "\n",
    "# Visualise outliers before removal\n",
    "plot_outlier_analysis(df, \"Before Outlier Removal\")"
   ]
  },
  {
   "cell_type": "code",
   "execution_count": 81,
   "id": "6bc260f8",
   "metadata": {},
   "outputs": [
    {
     "name": "stdout",
     "output_type": "stream",
     "text": [
      "Quantity - Mean: 10.59, Median: 3.00, Std: 156.78\n",
      "UnitPrice - Mean: £3.30, Median: £2.08, Std: £19.16\n",
      "High Quantity Analysis (Top 5%, >= 30 items):\n",
      "Count: 26,797 orders (5.08% of total)\n",
      "Quantity range: 30 - 80995\n",
      "Average quantity: 98.80\n",
      "Current IQR Boundaries (Multiplier=3):\n",
      "Quantity upper bound: 41.00\n",
      "UnitPrice upper bound: £12.77\n",
      "B2B Preservation Analysis:\n",
      "High-quantity orders preserved: 7458/26797 (27.8%)\n",
      "\n",
      "Multiplier Comparison:\n",
      "Multiplier 2: Upper bound=31.00, High-qty preserved=1222/26797 (4.6%), Total preserved=502,216 (95.15%)\n",
      "Multiplier 3: Upper bound=41.00, High-qty preserved=7458/26797 (27.8%), Total preserved=508,452 (96.34%)\n",
      "Multiplier 4: Upper bound=51.00, High-qty preserved=14652/26797 (54.7%), Total preserved=515,646 (97.70%)\n",
      "Multiplier 5: Upper bound=61.00, High-qty preserved=15488/26797 (57.8%), Total preserved=516,482 (97.86%)\n"
     ]
    }
   ],
   "source": [
    "# Analyze B2B vs B2C patterns to assess if multiplier=3 is conservative enough\n",
    "\n",
    "# Basic statistics for quantity and price\n",
    "print(f\"Quantity - Mean: {df['Quantity'].mean():.2f}, Median: {df['Quantity'].median():.2f}, Std: {df['Quantity'].std():.2f}\")\n",
    "print(f\"UnitPrice - Mean: £{df['UnitPrice'].mean():.2f}, Median: £{df['UnitPrice'].median():.2f}, Std: £{df['UnitPrice'].std():.2f}\")\n",
    "\n",
    "# Look at high-quantity transactions (potential B2B)\n",
    "high_quantity_threshold = df['Quantity'].quantile(0.95)  # Top 5%\n",
    "high_quantity_orders = df[df['Quantity'] >= high_quantity_threshold]\n",
    "\n",
    "print(f\"High Quantity Analysis (Top 5%, >= {high_quantity_threshold:.0f} items):\")\n",
    "print(f\"Count: {len(high_quantity_orders):,} orders ({len(high_quantity_orders)/len(df)*100:.2f}% of total)\")\n",
    "print(f\"Quantity range: {high_quantity_orders['Quantity'].min()} - {high_quantity_orders['Quantity'].max()}\")\n",
    "print(f\"Average quantity: {high_quantity_orders['Quantity'].mean():.2f}\")\n",
    "\n",
    "# Check current IQR boundaries with multiplier=3\n",
    "Q1_qty = df['Quantity'].quantile(0.25)\n",
    "Q3_qty = df['Quantity'].quantile(0.75)\n",
    "IQR_qty = Q3_qty - Q1_qty\n",
    "upper_bound_qty = Q3_qty + 3 * IQR_qty\n",
    "\n",
    "Q1_price = df['UnitPrice'].quantile(0.25)\n",
    "Q3_price = df['UnitPrice'].quantile(0.75)\n",
    "IQR_price = Q3_price - Q1_price\n",
    "upper_bound_price = Q3_price + 3 * IQR_price\n",
    "\n",
    "print(f\"Current IQR Boundaries (Multiplier=3):\")\n",
    "print(f\"Quantity upper bound: {upper_bound_qty:.2f}\")\n",
    "print(f\"UnitPrice upper bound: £{upper_bound_price:.2f}\")\n",
    "\n",
    "# Check what percentage of high-quantity orders would be preserved\n",
    "preserved_high_qty = high_quantity_orders[high_quantity_orders['Quantity'] <= upper_bound_qty]\n",
    "print(f\"B2B Preservation Analysis:\")\n",
    "print(f\"High-quantity orders preserved: {len(preserved_high_qty)}/{len(high_quantity_orders)} ({len(preserved_high_qty)/len(high_quantity_orders)*100:.1f}%)\")\n",
    "\n",
    "# Check what would happen with different multipliers\n",
    "multipliers = [2, 3, 4, 5]\n",
    "print(f\"\\nMultiplier Comparison:\")\n",
    "for mult in multipliers:\n",
    "    upper_bound_test = Q3_qty + mult * IQR_qty\n",
    "    preserved_test = len(high_quantity_orders[high_quantity_orders['Quantity'] <= upper_bound_test])\n",
    "    total_preserved = len(df[df['Quantity'] <= upper_bound_test])\n",
    "    print(f\"Multiplier {mult}: Upper bound={upper_bound_test:.2f}, High-qty preserved={preserved_test}/{len(high_quantity_orders)} ({preserved_test/len(high_quantity_orders)*100:.1f}%), Total preserved={total_preserved:,} ({total_preserved/len(df)*100:.2f}%)\")"
   ]
  },
  {
   "cell_type": "markdown",
   "id": "cbaea88d",
   "metadata": {},
   "source": [
    "---\n",
    "\n",
    "## CONCLUSION: Is Multiplier=3 Conservative Enough?\n",
    "\n",
    "### **NO** - Multiplier=3 is TOO RESTRICTIVE for B2B transactions\n",
    "\n",
    "#### Key Issues:\n",
    "- **Only 23.5% of high-quantity orders preserved**\n",
    "- **76.5% of potential B2B transactions would be incorrectly removed**\n",
    "- **Upper bound of 37 items is too low for genuine bulk orders**\n",
    "\n",
    "#### 🎯 RECOMMENDATIONS:\n",
    "- **Use Multiplier=5 for better B2B preservation** (55.0% of high-qty orders preserved)\n",
    "- **Consider future work for a segment-aware outlier detection** (separate thresholds for B2B vs B2C)\n",
    "- **Manual review of extreme outliers** (>1000 items) before removal\n",
    "\n",
    "---"
   ]
  },
  {
   "cell_type": "markdown",
   "id": "4c5ccdf9",
   "metadata": {},
   "source": [
    "### Removing known outliers\n",
    "\n",
    "### B2B-Aware Outlier Removal Strategy\n",
    "\n",
    "Based on the analysis above, we implement a business-aware approach to outlier removal:\n",
    "\n",
    "**Quantity Outliers**: Use multiplier=5 (instead of 3) to preserve legitimate B2B bulk orders while removing extreme data entry errors (like the 80,995 quantity outliers)\n",
    "\n",
    "**Price Outliers**: Use multiplier=3 for unit prices as pricing outliers are more likely to represent data quality issues\n",
    "\n",
    "**Rationale**: \n",
    "- B2B customers legitimately order in much larger quantities than B2C customers\n",
    "- A multiplier of 3 would incorrectly classify 76.5% of high-quantity orders as outliers\n",
    "- A multiplier of 5 preserves 55% of high-quantity orders while still removing extreme anomalies\n",
    "- This approach balances data quality with business reality"
   ]
  },
  {
   "cell_type": "code",
   "execution_count": 82,
   "id": "35d19371",
   "metadata": {},
   "outputs": [
    {
     "name": "stdout",
     "output_type": "stream",
     "text": [
      "Quantity outliers removed: 4679 (0.89%)\n",
      "Upper bound: 111.00, Lower bound: -99.00\n",
      "UnitPrice outliers removed: 757 (0.14%)\n",
      "Upper bound: 32.93, Lower bound: -27.55\n",
      "\n",
      "Dataset size after outlier removal: 522,355 records\n",
      "UnitPrice outliers removed: 757 (0.14%)\n",
      "Upper bound: 32.93, Lower bound: -27.55\n",
      "\n",
      "Dataset size after outlier removal: 522,355 records\n"
     ]
    }
   ],
   "source": [
    "# Remove extreme outliers using IQR method with conservative multiplier to preserve B2B sales\n",
    "def remove_extreme_outliers(df, column, multiplier=3):\n",
    "    \"\"\"\n",
    "    Remove extreme outliers using IQR method with conservative multiplier\n",
    "    to preserve legitimate B2B transactions while removing data entry errors\n",
    "    \"\"\"\n",
    "    Q1 = df[column].quantile(0.25)\n",
    "    Q3 = df[column].quantile(0.75)\n",
    "    IQR = Q3 - Q1\n",
    "    \n",
    "    # Use conservative multiplier (3 instead of 1.5) to preserve B2B sales\n",
    "    lower_bound = Q1 - multiplier * IQR\n",
    "    upper_bound = Q3 + multiplier * IQR\n",
    "    \n",
    "    outliers_removed = df[(df[column] < lower_bound) | (df[column] > upper_bound)]\n",
    "    cleaned_df = df[(df[column] >= lower_bound) & (df[column] <= upper_bound)]\n",
    "    \n",
    "    print(f\"{column} outliers removed: {len(outliers_removed)} ({len(outliers_removed)/len(df)*100:.2f}%)\")\n",
    "    print(f\"Upper bound: {upper_bound:.2f}, Lower bound: {lower_bound:.2f}\")\n",
    "    \n",
    "    return cleaned_df\n",
    "\n",
    "# Remove extreme quantity outliers (likely data entry errors)\n",
    "# Using multiplier=5 to better preserve legitimate B2B transactions\n",
    "df = remove_extreme_outliers(df, 'Quantity', multiplier=10)\n",
    "\n",
    "# Remove extreme unit price outliers (likely data entry errors)\n",
    "df = remove_extreme_outliers(df, 'UnitPrice', multiplier=10)\n",
    "\n",
    "print(f\"\\nDataset size after outlier removal: {len(df):,} records\")"
   ]
  },
  {
   "cell_type": "code",
   "execution_count": 83,
   "id": "3cbb5a58",
   "metadata": {},
   "outputs": [
    {
     "data": {
      "image/png": "[encoded data removed]",
      "text/plain": [
       "<Figure size 1500x1000 with 4 Axes>"
      ]
     },
     "metadata": {},
     "output_type": "display_data"
    },
    {
     "name": "stdout",
     "output_type": "stream",
     "text": [
      "\n",
      "Summary Statistics After Outlier Removal:\n",
      "Dataset size: 522,355 records\n",
      "Quantity - Min: 1, Max: 111, Mean: 8.00\n",
      "UnitPrice - Min: £0.00, Max: £32.69, Mean: £3.20\n"
     ]
    }
   ],
   "source": [
    "# Visualise outliers after removal\n",
    "plot_outlier_analysis(df, \"After Outlier Removal\")"
   ]
  },
  {
   "cell_type": "markdown",
   "id": "e0eab8f6",
   "metadata": {},
   "source": [
    "### Save the cleaned dataset to CSV for visualisation"
   ]
  },
  {
   "cell_type": "code",
   "execution_count": 84,
   "id": "dd3dde9d",
   "metadata": {},
   "outputs": [],
   "source": [
    "df.to_csv('../data/clean_online_retail.csv', index=False)"
   ]
  }
 ],
 "metadata": {
  "kernelspec": {
   "display_name": ".venv",
   "language": "python",
   "name": "python3"
  },
  "language_info": {
   "codemirror_mode": {
    "name": "ipython",
    "version": 3
   },
   "file_extension": ".py",
   "mimetype": "text/x-python",
   "name": "python",
   "nbconvert_exporter": "python",
   "pygments_lexer": "ipython3",
   "version": "3.12.8"
  }
 },
 "nbformat": 4,
 "nbformat_minor": 5
}
