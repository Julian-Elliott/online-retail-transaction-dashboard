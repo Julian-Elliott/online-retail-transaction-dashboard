{
 "cells": [
  {
   "cell_type": "markdown",
   "id": "91204c62",
   "metadata": {},
   "source": []
  },
  {
   "cell_type": "markdown",
   "id": "5610a63d",
   "metadata": {},
   "source": [
    "# 🛠️ ETL Process Documentation - Hackathon Project\n",
    "\n",
    "## 📌 Project: Online Retail Transaction Analysis\n",
    "\n",
    "### 🎯 Objective\n",
    "Clean, transform, and prepare the *Online Retail* dataset for analysis by removing errors, correcting inconsistencies, and structuring the data for visualisation and insights.\n",
    "\n",
    "---"
   ]
  },
  {
   "cell_type": "code",
   "execution_count": 13,
   "id": "1b464c0d",
   "metadata": {},
   "outputs": [],
   "source": [
    "import pandas as pd\n",
    "\n",
    "df = pd.read_csv(r'../data/online_retail.csv')"
   ]
  },
  {
   "cell_type": "markdown",
   "id": "fb7b58b5",
   "metadata": {},
   "source": [
    "#### Create a Data Dictionary of the imported dataset "
   ]
  },
  {
   "cell_type": "code",
   "execution_count": 14,
   "id": "fa62d0bc",
   "metadata": {},
   "outputs": [
    {
     "data": {
      "text/html": [
       "<div>\n",
       "<style scoped>\n",
       "    .dataframe tbody tr th:only-of-type {\n",
       "        vertical-align: middle;\n",
       "    }\n",
       "\n",
       "    .dataframe tbody tr th {\n",
       "        vertical-align: top;\n",
       "    }\n",
       "\n",
       "    .dataframe thead th {\n",
       "        text-align: right;\n",
       "    }\n",
       "</style>\n",
       "<table border=\"1\" class=\"dataframe\">\n",
       "  <thead>\n",
       "    <tr style=\"text-align: right;\">\n",
       "      <th></th>\n",
       "      <th>Column</th>\n",
       "      <th>Data Type</th>\n",
       "      <th>Missing Values</th>\n",
       "      <th>Missing %</th>\n",
       "      <th>Unique Values</th>\n",
       "      <th>Sample Values</th>\n",
       "      <th>Description</th>\n",
       "    </tr>\n",
       "  </thead>\n",
       "  <tbody>\n",
       "    <tr>\n",
       "      <th>0</th>\n",
       "      <td>InvoiceNo</td>\n",
       "      <td>object</td>\n",
       "      <td>0</td>\n",
       "      <td>0.00</td>\n",
       "      <td>25900</td>\n",
       "      <td>536365, 536365, 536365</td>\n",
       "      <td>Invoice number - 6-digit integral number uniqu...</td>\n",
       "    </tr>\n",
       "    <tr>\n",
       "      <th>1</th>\n",
       "      <td>StockCode</td>\n",
       "      <td>object</td>\n",
       "      <td>0</td>\n",
       "      <td>0.00</td>\n",
       "      <td>4070</td>\n",
       "      <td>85123A, 71053, 84406B</td>\n",
       "      <td>Product (item) code - 5-digit integral number ...</td>\n",
       "    </tr>\n",
       "    <tr>\n",
       "      <th>2</th>\n",
       "      <td>Description</td>\n",
       "      <td>object</td>\n",
       "      <td>1454</td>\n",
       "      <td>0.27</td>\n",
       "      <td>4223</td>\n",
       "      <td>WHITE HANGING HEART T-LIGHT HOLDER, WHITE META...</td>\n",
       "      <td>Product (item) name/description</td>\n",
       "    </tr>\n",
       "    <tr>\n",
       "      <th>3</th>\n",
       "      <td>Quantity</td>\n",
       "      <td>int64</td>\n",
       "      <td>0</td>\n",
       "      <td>0.00</td>\n",
       "      <td>722</td>\n",
       "      <td>6, 6, 8</td>\n",
       "      <td>The quantities of each product (item) per tran...</td>\n",
       "    </tr>\n",
       "    <tr>\n",
       "      <th>4</th>\n",
       "      <td>InvoiceDate</td>\n",
       "      <td>object</td>\n",
       "      <td>0</td>\n",
       "      <td>0.00</td>\n",
       "      <td>23260</td>\n",
       "      <td>2010-12-01 08:26:00, 2010-12-01 08:26:00, 2010...</td>\n",
       "      <td>Invoice date and time - the day and time when ...</td>\n",
       "    </tr>\n",
       "    <tr>\n",
       "      <th>5</th>\n",
       "      <td>UnitPrice</td>\n",
       "      <td>float64</td>\n",
       "      <td>0</td>\n",
       "      <td>0.00</td>\n",
       "      <td>1630</td>\n",
       "      <td>2.55, 3.39, 2.75</td>\n",
       "      <td>Unit price - product price per unit in sterlin...</td>\n",
       "    </tr>\n",
       "    <tr>\n",
       "      <th>6</th>\n",
       "      <td>CustomerID</td>\n",
       "      <td>int64</td>\n",
       "      <td>0</td>\n",
       "      <td>0.00</td>\n",
       "      <td>4372</td>\n",
       "      <td>17850, 17850, 17850</td>\n",
       "      <td>5-digit integral number uniquely assigned to e...</td>\n",
       "    </tr>\n",
       "    <tr>\n",
       "      <th>7</th>\n",
       "      <td>Country</td>\n",
       "      <td>object</td>\n",
       "      <td>0</td>\n",
       "      <td>0.00</td>\n",
       "      <td>38</td>\n",
       "      <td>United Kingdom, United Kingdom, United Kingdom</td>\n",
       "      <td>Country name - the name of the country where e...</td>\n",
       "    </tr>\n",
       "  </tbody>\n",
       "</table>\n",
       "</div>"
      ],
      "text/plain": [
       "        Column Data Type  Missing Values  Missing %  Unique Values  \\\n",
       "0    InvoiceNo    object               0       0.00          25900   \n",
       "1    StockCode    object               0       0.00           4070   \n",
       "2  Description    object            1454       0.27           4223   \n",
       "3     Quantity     int64               0       0.00            722   \n",
       "4  InvoiceDate    object               0       0.00          23260   \n",
       "5    UnitPrice   float64               0       0.00           1630   \n",
       "6   CustomerID     int64               0       0.00           4372   \n",
       "7      Country    object               0       0.00             38   \n",
       "\n",
       "                                       Sample Values  \\\n",
       "0                             536365, 536365, 536365   \n",
       "1                              85123A, 71053, 84406B   \n",
       "2  WHITE HANGING HEART T-LIGHT HOLDER, WHITE META...   \n",
       "3                                            6, 6, 8   \n",
       "4  2010-12-01 08:26:00, 2010-12-01 08:26:00, 2010...   \n",
       "5                                   2.55, 3.39, 2.75   \n",
       "6                                17850, 17850, 17850   \n",
       "7     United Kingdom, United Kingdom, United Kingdom   \n",
       "\n",
       "                                         Description  \n",
       "0  Invoice number - 6-digit integral number uniqu...  \n",
       "1  Product (item) code - 5-digit integral number ...  \n",
       "2                    Product (item) name/description  \n",
       "3  The quantities of each product (item) per tran...  \n",
       "4  Invoice date and time - the day and time when ...  \n",
       "5  Unit price - product price per unit in sterlin...  \n",
       "6  5-digit integral number uniquely assigned to e...  \n",
       "7  Country name - the name of the country where e...  "
      ]
     },
     "execution_count": 14,
     "metadata": {},
     "output_type": "execute_result"
    }
   ],
   "source": [
    "# Custom Function to create a comprehensive data dictionary for Online Retail datasets\n",
    "# Takes a DataFrame and returns a data dictionary\n",
    "def create_data_dictionary(df):\n",
    "    # Official descriptions from UCI ML Repository Variables Table: https://archive.ics.uci.edu/dataset/352/online+retail\n",
    "    descriptions = {\n",
    "        'InvoiceNo': 'Invoice number - 6-digit integral number uniquely assigned to each transaction. If starts with letter \"c\", indicates a cancellation',\n",
    "        'StockCode': 'Product (item) code - 5-digit integral number uniquely assigned to each distinct product',\n",
    "        'Description': 'Product (item) name/description',\n",
    "        'Quantity': 'The quantities of each product (item) per transaction',\n",
    "        'InvoiceDate': 'Invoice date and time - the day and time when each transaction was generated',\n",
    "        'UnitPrice': 'Unit price - product price per unit in sterling (£)',\n",
    "        'CustomerID': '5-digit integral number uniquely assigned to each customer',\n",
    "        'Country': 'Country name - the name of the country where each customer resides'\n",
    "    }\n",
    "    \n",
    "    dictionary_data = []\n",
    "    for column in df.columns:\n",
    "        # Get 3 sample values (non-null)\n",
    "        sample_values = df[column].dropna().head(3).tolist()\n",
    "        sample_str = ', '.join([str(x) for x in sample_values])\n",
    "        \n",
    "        dictionary_data.append({\n",
    "            'Column': column,\n",
    "            'Data Type': str(df[column].dtype),\n",
    "            'Missing Values': df[column].isnull().sum(),\n",
    "            'Missing %': round((df[column].isnull().sum() / len(df)) * 100, 2),\n",
    "            'Unique Values': df[column].nunique(),\n",
    "            'Sample Values': sample_str,\n",
    "            'Description': descriptions.get(column, 'Custom/Engineered column - description needed')\n",
    "        })\n",
    "    return pd.DataFrame(dictionary_data)\n",
    "\n",
    "# Store the dictionary in a variable\n",
    "raw_data_dictionary = create_data_dictionary(df)\n",
    "\n",
    "# Display data dictionary\n",
    "raw_data_dictionary\n"
   ]
  },
  {
   "cell_type": "markdown",
   "id": "4342ffc4",
   "metadata": {},
   "source": [
    "#### Check Invoice Column\n",
    "\n",
    "- We have used tableau prep to quickly identify data conserns, we first noticed that InvoiceNo contains string values."
   ]
  },
  {
   "cell_type": "markdown",
   "id": "bf68ddae",
   "metadata": {},
   "source": [
    "def analyse_invoice_column(df, column_name='InvoiceNo'):\n",
    "    \"\"\"\n",
    "    Analyse the InvoiceNo column to identify different invoice types\n",
    "    \n",
    "    Parameters:\n",
    "    df (pandas.DataFrame): The dataframe to analyze\n",
    "    column_name (str): The name of the invoice column to analyze (default: 'InvoiceNo')\n",
    "    \n",
    "    Prints analysis results including counts and sample values for regular and non-standard invoices.\n",
    "    \"\"\"\n",
    "    print(f\"Invoice Column records: {len(df)}\")\n",
    "    \n",
    "    # Check for different invoice patterns\n",
    "    regular_invoices = df[df[column_name].astype(str).str.match(r'^\\d{6}$')]\n",
    "    non_standard_invoices = df[~df[column_name].astype(str).str.match(r'^\\d{6}$')]\n",
    "    \n",
    "    print(f\"\\nRegular invoices (exactly 6 digits): {len(regular_invoices)} ({len(regular_invoices)/len(df)*100:.1f}%)\")\n",
    "    print(f\"Non-standard invoices (not exactly 6 digits): {len(non_standard_invoices)} ({len(non_standard_invoices)/len(df)*100:.1f}%)\")\n",
    "    \n",
    "    # Show sample invoice numbers for each type\n",
    "    print(\"\\nExpected invoice format:\")\n",
    "    print(regular_invoices[column_name].head(5).tolist())\n",
    "    print()\n",
    "    \n",
    "    if len(non_standard_invoices) > 0:\n",
    "        print(\"\\nInvoices with string values:\")\n",
    "        print(non_standard_invoices[column_name].head(10).tolist())\n",
    "        print()\n",
    "\n",
    "# Run the analysis on the current dataset\n",
    "analyse_invoice_column(df)"
   ]
  },
  {
   "cell_type": "markdown",
   "id": "bf890982",
   "metadata": {},
   "source": [
    "### Filter out rows where InvoiceNo contains 'C' (cancellations)\n",
    "- Dataset research from {[link](https://archive.ics.uci.edu/dataset/352/online+retail)} shows that invoice numbers begining with C are cancellations, these are not within the scope of our user stories and will be removed from the dataset."
   ]
  },
  {
   "cell_type": "code",
   "execution_count": 16,
   "id": "24efdd15",
   "metadata": {},
   "outputs": [],
   "source": [
    "df = df[~df['InvoiceNo'].astype(str).str.contains('C', case=False, na=False)]\n"
   ]
  },
  {
   "cell_type": "markdown",
   "id": "eb30a56d",
   "metadata": {},
   "source": [
    "#### Or quantity is negative"
   ]
  },
  {
   "cell_type": "code",
   "execution_count": 17,
   "id": "9348f8f0",
   "metadata": {},
   "outputs": [],
   "source": [
    "df = df[df['Quantity'] > 0]"
   ]
  },
  {
   "cell_type": "markdown",
   "id": "9db345cf",
   "metadata": {},
   "source": [
    "### Drop rows with null product descriptions"
   ]
  },
  {
   "cell_type": "code",
   "execution_count": 18,
   "id": "3e3d2179",
   "metadata": {},
   "outputs": [],
   "source": [
    "df = df.dropna(subset=['Description'])"
   ]
  },
  {
   "cell_type": "markdown",
   "id": "eae02267",
   "metadata": {},
   "source": [
    "### Remove cancelled orders (already filtered out above)\n",
    "# Note: Invoices containing 'C' (cancellations) are already removed in the previous step"
   ]
  },
  {
   "cell_type": "code",
   "execution_count": 19,
   "id": "69168016",
   "metadata": {},
   "outputs": [],
   "source": [
    "# This step is now redundant as we already filtered out invoices containing 'C' above\n",
    "# df = df[~df['InvoiceNo'].astype(str).str.contains('C', case=False, na=False)]"
   ]
  },
  {
   "cell_type": "markdown",
   "id": "2e6d0964",
   "metadata": {},
   "source": [
    "### Remove duplicates"
   ]
  },
  {
   "cell_type": "code",
   "execution_count": 20,
   "id": "5d8f4a51",
   "metadata": {},
   "outputs": [],
   "source": [
    "df = df.drop_duplicates(subset=['InvoiceNo', 'StockCode', 'Quantity', 'CustomerID'])"
   ]
  },
  {
   "cell_type": "markdown",
   "id": "99dd3f57",
   "metadata": {},
   "source": [
    "### Remove missing or unspecified countries"
   ]
  },
  {
   "cell_type": "code",
   "execution_count": 21,
   "id": "1adea5cf",
   "metadata": {},
   "outputs": [],
   "source": [
    "df = df[df['Country'].notna()]\n",
    "df = df[df['Country'] != 'Unspecified']"
   ]
  },
  {
   "cell_type": "markdown",
   "id": "29e809f1",
   "metadata": {},
   "source": [
    "### Re-analyze Invoice Column After Cleaning\n",
    "Now let's check the invoice column again after all our cleaning steps to see how the data looks."
   ]
  },
  {
   "cell_type": "code",
   "execution_count": 22,
   "id": "f5dfdbd1",
   "metadata": {},
   "outputs": [
    {
     "name": "stdout",
     "output_type": "stream",
     "text": [
      "=== AFTER CLEANING ===\n",
      "Invoice Column records: 524931\n",
      "\n",
      "Regular invoices (exactly 6 digits): 524928 (100.0%)\n",
      "Non-standard invoices (not exactly 6 digits): 3 (0.0%)\n",
      "\n",
      "Expected invoice format:\n",
      "['536365', '536365', '536365', '536365', '536365']\n",
      "\n",
      "\n",
      "Invoices with string values:\n",
      "['A563185', 'A563186', 'A563187']\n",
      "\n",
      "\n",
      "Regular invoices (exactly 6 digits): 524928 (100.0%)\n",
      "Non-standard invoices (not exactly 6 digits): 3 (0.0%)\n",
      "\n",
      "Expected invoice format:\n",
      "['536365', '536365', '536365', '536365', '536365']\n",
      "\n",
      "\n",
      "Invoices with string values:\n",
      "['A563185', 'A563186', 'A563187']\n",
      "\n"
     ]
    }
   ],
   "source": [
    "# Use the function to re-analyze the invoice column after cleaning\n",
    "print(\"=== AFTER CLEANING ===\")\n",
    "analyse_invoice_column(df)"
   ]
  },
  {
   "cell_type": "markdown",
   "id": "e0eab8f6",
   "metadata": {},
   "source": [
    "### Save the cleaned dataset to CSV for visualisation"
   ]
  },
  {
   "cell_type": "code",
   "execution_count": 23,
   "id": "dd3dde9d",
   "metadata": {},
   "outputs": [],
   "source": [
    "df.to_csv('../data/clean_online_retail.csv', index=False)"
   ]
  },
  {
   "cell_type": "markdown",
   "id": "b3798716",
   "metadata": {},
   "source": [
    "#### Create a Data Dictionary of the cleaned dataset "
   ]
  },
  {
   "cell_type": "code",
   "execution_count": 24,
   "id": "f9e58fa5",
   "metadata": {},
   "outputs": [
    {
     "data": {
      "text/html": [
       "<div>\n",
       "<style scoped>\n",
       "    .dataframe tbody tr th:only-of-type {\n",
       "        vertical-align: middle;\n",
       "    }\n",
       "\n",
       "    .dataframe tbody tr th {\n",
       "        vertical-align: top;\n",
       "    }\n",
       "\n",
       "    .dataframe thead th {\n",
       "        text-align: right;\n",
       "    }\n",
       "</style>\n",
       "<table border=\"1\" class=\"dataframe\">\n",
       "  <thead>\n",
       "    <tr style=\"text-align: right;\">\n",
       "      <th></th>\n",
       "      <th>Column</th>\n",
       "      <th>Data Type</th>\n",
       "      <th>Missing Values</th>\n",
       "      <th>Missing %</th>\n",
       "      <th>Unique Values</th>\n",
       "      <th>Sample Values</th>\n",
       "      <th>Description</th>\n",
       "    </tr>\n",
       "  </thead>\n",
       "  <tbody>\n",
       "    <tr>\n",
       "      <th>0</th>\n",
       "      <td>InvoiceNo</td>\n",
       "      <td>object</td>\n",
       "      <td>0</td>\n",
       "      <td>0.0</td>\n",
       "      <td>20123</td>\n",
       "      <td>536365, 536365, 536365</td>\n",
       "      <td>Invoice number - 6-digit integral number uniqu...</td>\n",
       "    </tr>\n",
       "    <tr>\n",
       "      <th>1</th>\n",
       "      <td>StockCode</td>\n",
       "      <td>object</td>\n",
       "      <td>0</td>\n",
       "      <td>0.0</td>\n",
       "      <td>3925</td>\n",
       "      <td>85123A, 71053, 84406B</td>\n",
       "      <td>Product (item) code - 5-digit integral number ...</td>\n",
       "    </tr>\n",
       "    <tr>\n",
       "      <th>2</th>\n",
       "      <td>Description</td>\n",
       "      <td>object</td>\n",
       "      <td>0</td>\n",
       "      <td>0.0</td>\n",
       "      <td>4077</td>\n",
       "      <td>WHITE HANGING HEART T-LIGHT HOLDER, WHITE META...</td>\n",
       "      <td>Product (item) name/description</td>\n",
       "    </tr>\n",
       "    <tr>\n",
       "      <th>3</th>\n",
       "      <td>Quantity</td>\n",
       "      <td>int64</td>\n",
       "      <td>0</td>\n",
       "      <td>0.0</td>\n",
       "      <td>383</td>\n",
       "      <td>6, 6, 8</td>\n",
       "      <td>The quantities of each product (item) per tran...</td>\n",
       "    </tr>\n",
       "    <tr>\n",
       "      <th>4</th>\n",
       "      <td>InvoiceDate</td>\n",
       "      <td>object</td>\n",
       "      <td>0</td>\n",
       "      <td>0.0</td>\n",
       "      <td>18630</td>\n",
       "      <td>2010-12-01 08:26:00, 2010-12-01 08:26:00, 2010...</td>\n",
       "      <td>Invoice date and time - the day and time when ...</td>\n",
       "    </tr>\n",
       "    <tr>\n",
       "      <th>5</th>\n",
       "      <td>UnitPrice</td>\n",
       "      <td>float64</td>\n",
       "      <td>0</td>\n",
       "      <td>0.0</td>\n",
       "      <td>1282</td>\n",
       "      <td>2.55, 3.39, 2.75</td>\n",
       "      <td>Unit price - product price per unit in sterlin...</td>\n",
       "    </tr>\n",
       "    <tr>\n",
       "      <th>6</th>\n",
       "      <td>CustomerID</td>\n",
       "      <td>int64</td>\n",
       "      <td>0</td>\n",
       "      <td>0.0</td>\n",
       "      <td>4335</td>\n",
       "      <td>17850, 17850, 17850</td>\n",
       "      <td>5-digit integral number uniquely assigned to e...</td>\n",
       "    </tr>\n",
       "    <tr>\n",
       "      <th>7</th>\n",
       "      <td>Country</td>\n",
       "      <td>object</td>\n",
       "      <td>0</td>\n",
       "      <td>0.0</td>\n",
       "      <td>37</td>\n",
       "      <td>United Kingdom, United Kingdom, United Kingdom</td>\n",
       "      <td>Country name - the name of the country where e...</td>\n",
       "    </tr>\n",
       "  </tbody>\n",
       "</table>\n",
       "</div>"
      ],
      "text/plain": [
       "        Column Data Type  Missing Values  Missing %  Unique Values  \\\n",
       "0    InvoiceNo    object               0        0.0          20123   \n",
       "1    StockCode    object               0        0.0           3925   \n",
       "2  Description    object               0        0.0           4077   \n",
       "3     Quantity     int64               0        0.0            383   \n",
       "4  InvoiceDate    object               0        0.0          18630   \n",
       "5    UnitPrice   float64               0        0.0           1282   \n",
       "6   CustomerID     int64               0        0.0           4335   \n",
       "7      Country    object               0        0.0             37   \n",
       "\n",
       "                                       Sample Values  \\\n",
       "0                             536365, 536365, 536365   \n",
       "1                              85123A, 71053, 84406B   \n",
       "2  WHITE HANGING HEART T-LIGHT HOLDER, WHITE META...   \n",
       "3                                            6, 6, 8   \n",
       "4  2010-12-01 08:26:00, 2010-12-01 08:26:00, 2010...   \n",
       "5                                   2.55, 3.39, 2.75   \n",
       "6                                17850, 17850, 17850   \n",
       "7     United Kingdom, United Kingdom, United Kingdom   \n",
       "\n",
       "                                         Description  \n",
       "0  Invoice number - 6-digit integral number uniqu...  \n",
       "1  Product (item) code - 5-digit integral number ...  \n",
       "2                    Product (item) name/description  \n",
       "3  The quantities of each product (item) per tran...  \n",
       "4  Invoice date and time - the day and time when ...  \n",
       "5  Unit price - product price per unit in sterlin...  \n",
       "6  5-digit integral number uniquely assigned to e...  \n",
       "7  Country name - the name of the country where e...  "
      ]
     },
     "execution_count": 24,
     "metadata": {},
     "output_type": "execute_result"
    }
   ],
   "source": [
    "# Store the dictionary in a variable\n",
    "clean_data_dictionary = create_data_dictionary(df)\n",
    "\n",
    "# Display data dictionary\n",
    "clean_data_dictionary"
   ]
  }
 ],
 "metadata": {
  "kernelspec": {
   "display_name": ".venv",
   "language": "python",
   "name": "python3"
  },
  "language_info": {
   "codemirror_mode": {
    "name": "ipython",
    "version": 3
   },
   "file_extension": ".py",
   "mimetype": "text/x-python",
   "name": "python",
   "nbconvert_exporter": "python",
   "pygments_lexer": "ipython3",
   "version": "3.12.8"
  }
 },
 "nbformat": 4,
 "nbformat_minor": 5
}
