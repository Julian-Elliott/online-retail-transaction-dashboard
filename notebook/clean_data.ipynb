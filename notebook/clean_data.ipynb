{
 "cells": [
  {
   "cell_type": "markdown",
   "id": "91204c62",
   "metadata": {},
   "source": []
  },
  {
   "cell_type": "markdown",
   "id": "5610a63d",
   "metadata": {},
   "source": [
    "# 🛠️ ETL Process Documentation - Hackathon Project\n",
    "\n",
    "## 📌 Project: Online Retail Transaction Analysis\n",
    "\n",
    "### 🎯 Objective\n",
    "Clean, transform, and prepare the *Online Retail* dataset for analysis by removing errors, correcting inconsistencies, and structuring the data for visualisation and insights.\n",
    "\n",
    "---"
   ]
  },
  {
   "cell_type": "code",
   "execution_count": 1,
   "id": "1b464c0d",
   "metadata": {},
   "outputs": [
    {
     "name": "stdout",
     "output_type": "stream",
     "text": [
      "  InvoiceNo StockCode                          Description  Quantity  \\\n",
      "0    536365    85123A   WHITE HANGING HEART T-LIGHT HOLDER         6   \n",
      "1    536365     71053                  WHITE METAL LANTERN         6   \n",
      "2    536365    84406B       CREAM CUPID HEARTS COAT HANGER         8   \n",
      "3    536365    84029G  KNITTED UNION FLAG HOT WATER BOTTLE         6   \n",
      "4    536365    84029E       RED WOOLLY HOTTIE WHITE HEART.         6   \n",
      "\n",
      "           InvoiceDate  UnitPrice  CustomerID         Country  \n",
      "0  2010-12-01 08:26:00       2.55       17850  United Kingdom  \n",
      "1  2010-12-01 08:26:00       3.39       17850  United Kingdom  \n",
      "2  2010-12-01 08:26:00       2.75       17850  United Kingdom  \n",
      "3  2010-12-01 08:26:00       3.39       17850  United Kingdom  \n",
      "4  2010-12-01 08:26:00       3.39       17850  United Kingdom  \n"
     ]
    }
   ],
   "source": [
    "import pandas as pd\n",
    "\n",
    "df = pd.read_csv(r'../data/online_retail.csv')\n",
    "print(df.head())"
   ]
  },
  {
   "cell_type": "code",
   "execution_count": 2,
   "id": "fa62d0bc",
   "metadata": {},
   "outputs": [
    {
     "data": {
      "text/html": [
       "<div>\n",
       "<style scoped>\n",
       "    .dataframe tbody tr th:only-of-type {\n",
       "        vertical-align: middle;\n",
       "    }\n",
       "\n",
       "    .dataframe tbody tr th {\n",
       "        vertical-align: top;\n",
       "    }\n",
       "\n",
       "    .dataframe thead th {\n",
       "        text-align: right;\n",
       "    }\n",
       "</style>\n",
       "<table border=\"1\" class=\"dataframe\">\n",
       "  <thead>\n",
       "    <tr style=\"text-align: right;\">\n",
       "      <th></th>\n",
       "      <th>InvoiceNo</th>\n",
       "      <th>StockCode</th>\n",
       "      <th>Description</th>\n",
       "      <th>Quantity</th>\n",
       "      <th>InvoiceDate</th>\n",
       "      <th>UnitPrice</th>\n",
       "      <th>CustomerID</th>\n",
       "      <th>Country</th>\n",
       "    </tr>\n",
       "  </thead>\n",
       "  <tbody>\n",
       "    <tr>\n",
       "      <th>517</th>\n",
       "      <td>536409</td>\n",
       "      <td>21866</td>\n",
       "      <td>UNION JACK FLAG LUGGAGE TAG</td>\n",
       "      <td>1</td>\n",
       "      <td>2010-12-01 11:45:00</td>\n",
       "      <td>1.25</td>\n",
       "      <td>17908</td>\n",
       "      <td>United Kingdom</td>\n",
       "    </tr>\n",
       "    <tr>\n",
       "      <th>527</th>\n",
       "      <td>536409</td>\n",
       "      <td>22866</td>\n",
       "      <td>HAND WARMER SCOTTY DOG DESIGN</td>\n",
       "      <td>1</td>\n",
       "      <td>2010-12-01 11:45:00</td>\n",
       "      <td>2.10</td>\n",
       "      <td>17908</td>\n",
       "      <td>United Kingdom</td>\n",
       "    </tr>\n",
       "    <tr>\n",
       "      <th>537</th>\n",
       "      <td>536409</td>\n",
       "      <td>22900</td>\n",
       "      <td>SET 2 TEA TOWELS I LOVE LONDON</td>\n",
       "      <td>1</td>\n",
       "      <td>2010-12-01 11:45:00</td>\n",
       "      <td>2.95</td>\n",
       "      <td>17908</td>\n",
       "      <td>United Kingdom</td>\n",
       "    </tr>\n",
       "    <tr>\n",
       "      <th>539</th>\n",
       "      <td>536409</td>\n",
       "      <td>22111</td>\n",
       "      <td>SCOTTIE DOG HOT WATER BOTTLE</td>\n",
       "      <td>1</td>\n",
       "      <td>2010-12-01 11:45:00</td>\n",
       "      <td>4.95</td>\n",
       "      <td>17908</td>\n",
       "      <td>United Kingdom</td>\n",
       "    </tr>\n",
       "    <tr>\n",
       "      <th>555</th>\n",
       "      <td>536412</td>\n",
       "      <td>22327</td>\n",
       "      <td>ROUND SNACK BOXES SET OF 4 SKULLS</td>\n",
       "      <td>1</td>\n",
       "      <td>2010-12-01 11:49:00</td>\n",
       "      <td>2.95</td>\n",
       "      <td>17920</td>\n",
       "      <td>United Kingdom</td>\n",
       "    </tr>\n",
       "    <tr>\n",
       "      <th>...</th>\n",
       "      <td>...</td>\n",
       "      <td>...</td>\n",
       "      <td>...</td>\n",
       "      <td>...</td>\n",
       "      <td>...</td>\n",
       "      <td>...</td>\n",
       "      <td>...</td>\n",
       "      <td>...</td>\n",
       "    </tr>\n",
       "    <tr>\n",
       "      <th>541675</th>\n",
       "      <td>581538</td>\n",
       "      <td>22068</td>\n",
       "      <td>BLACK PIRATE TREASURE CHEST</td>\n",
       "      <td>1</td>\n",
       "      <td>2011-12-09 11:34:00</td>\n",
       "      <td>0.39</td>\n",
       "      <td>14446</td>\n",
       "      <td>United Kingdom</td>\n",
       "    </tr>\n",
       "    <tr>\n",
       "      <th>541689</th>\n",
       "      <td>581538</td>\n",
       "      <td>23318</td>\n",
       "      <td>BOX OF 6 MINI VINTAGE CRACKERS</td>\n",
       "      <td>1</td>\n",
       "      <td>2011-12-09 11:34:00</td>\n",
       "      <td>2.49</td>\n",
       "      <td>14446</td>\n",
       "      <td>United Kingdom</td>\n",
       "    </tr>\n",
       "    <tr>\n",
       "      <th>541692</th>\n",
       "      <td>581538</td>\n",
       "      <td>22992</td>\n",
       "      <td>REVOLVER WOODEN RULER</td>\n",
       "      <td>1</td>\n",
       "      <td>2011-12-09 11:34:00</td>\n",
       "      <td>1.95</td>\n",
       "      <td>14446</td>\n",
       "      <td>United Kingdom</td>\n",
       "    </tr>\n",
       "    <tr>\n",
       "      <th>541699</th>\n",
       "      <td>581538</td>\n",
       "      <td>22694</td>\n",
       "      <td>WICKER STAR</td>\n",
       "      <td>1</td>\n",
       "      <td>2011-12-09 11:34:00</td>\n",
       "      <td>2.10</td>\n",
       "      <td>14446</td>\n",
       "      <td>United Kingdom</td>\n",
       "    </tr>\n",
       "    <tr>\n",
       "      <th>541701</th>\n",
       "      <td>581538</td>\n",
       "      <td>23343</td>\n",
       "      <td>JUMBO BAG VINTAGE CHRISTMAS</td>\n",
       "      <td>1</td>\n",
       "      <td>2011-12-09 11:34:00</td>\n",
       "      <td>2.08</td>\n",
       "      <td>14446</td>\n",
       "      <td>United Kingdom</td>\n",
       "    </tr>\n",
       "  </tbody>\n",
       "</table>\n",
       "<p>5268 rows × 8 columns</p>\n",
       "</div>"
      ],
      "text/plain": [
       "       InvoiceNo StockCode                        Description  Quantity  \\\n",
       "517       536409     21866        UNION JACK FLAG LUGGAGE TAG         1   \n",
       "527       536409     22866      HAND WARMER SCOTTY DOG DESIGN         1   \n",
       "537       536409     22900    SET 2 TEA TOWELS I LOVE LONDON          1   \n",
       "539       536409     22111       SCOTTIE DOG HOT WATER BOTTLE         1   \n",
       "555       536412     22327  ROUND SNACK BOXES SET OF 4 SKULLS         1   \n",
       "...          ...       ...                                ...       ...   \n",
       "541675    581538     22068        BLACK PIRATE TREASURE CHEST         1   \n",
       "541689    581538     23318     BOX OF 6 MINI VINTAGE CRACKERS         1   \n",
       "541692    581538     22992             REVOLVER WOODEN RULER          1   \n",
       "541699    581538     22694                       WICKER STAR          1   \n",
       "541701    581538     23343       JUMBO BAG VINTAGE CHRISTMAS          1   \n",
       "\n",
       "                InvoiceDate  UnitPrice  CustomerID         Country  \n",
       "517     2010-12-01 11:45:00       1.25       17908  United Kingdom  \n",
       "527     2010-12-01 11:45:00       2.10       17908  United Kingdom  \n",
       "537     2010-12-01 11:45:00       2.95       17908  United Kingdom  \n",
       "539     2010-12-01 11:45:00       4.95       17908  United Kingdom  \n",
       "555     2010-12-01 11:49:00       2.95       17920  United Kingdom  \n",
       "...                     ...        ...         ...             ...  \n",
       "541675  2011-12-09 11:34:00       0.39       14446  United Kingdom  \n",
       "541689  2011-12-09 11:34:00       2.49       14446  United Kingdom  \n",
       "541692  2011-12-09 11:34:00       1.95       14446  United Kingdom  \n",
       "541699  2011-12-09 11:34:00       2.10       14446  United Kingdom  \n",
       "541701  2011-12-09 11:34:00       2.08       14446  United Kingdom  \n",
       "\n",
       "[5268 rows x 8 columns]"
      ]
     },
     "execution_count": 2,
     "metadata": {},
     "output_type": "execute_result"
    }
   ],
   "source": [
    "df[df.duplicated()]"
   ]
  },
  {
   "cell_type": "markdown",
   "id": "9db345cf",
   "metadata": {},
   "source": [
    "### Drop rows with null product descriptions"
   ]
  },
  {
   "cell_type": "code",
   "execution_count": 3,
   "id": "3e3d2179",
   "metadata": {},
   "outputs": [],
   "source": [
    "df = df.dropna(subset=['Description'])"
   ]
  },
  {
   "cell_type": "markdown",
   "id": "bf890982",
   "metadata": {},
   "source": [
    "### Filter out rows where InvoiceNo starts with 'Adjustment' or quantity is negative"
   ]
  },
  {
   "cell_type": "code",
   "execution_count": 4,
   "id": "24efdd15",
   "metadata": {},
   "outputs": [],
   "source": [
    "df = df[~df['InvoiceNo'].astype(str).str.startswith('Adjustment')]\n",
    "df = df[df['Quantity'] > 0]"
   ]
  },
  {
   "cell_type": "markdown",
   "id": "eae02267",
   "metadata": {},
   "source": [
    "### Remove cancelled orders"
   ]
  },
  {
   "cell_type": "code",
   "execution_count": 5,
   "id": "69168016",
   "metadata": {},
   "outputs": [],
   "source": [
    "df = df[~df['InvoiceNo'].astype(str).str.contains('C', na=False)]"
   ]
  },
  {
   "cell_type": "markdown",
   "id": "2e6d0964",
   "metadata": {},
   "source": [
    "### Remove duplicates"
   ]
  },
  {
   "cell_type": "code",
   "execution_count": 6,
   "id": "5d8f4a51",
   "metadata": {},
   "outputs": [],
   "source": [
    "df = df.drop_duplicates(subset=['InvoiceNo', 'StockCode', 'Quantity', 'CustomerID'])"
   ]
  },
  {
   "cell_type": "markdown",
   "id": "99dd3f57",
   "metadata": {},
   "source": [
    "### Remove missing or unspecified countries"
   ]
  },
  {
   "cell_type": "code",
   "execution_count": 7,
   "id": "1adea5cf",
   "metadata": {},
   "outputs": [],
   "source": [
    "df = df[df['Country'].notna()]\n",
    "df = df[df['Country'] != 'Unspecified']"
   ]
  },
  {
   "cell_type": "markdown",
   "id": "e0eab8f6",
   "metadata": {},
   "source": [
    "### Save the cleaned dataset to CSV for visualisation"
   ]
  },
  {
   "cell_type": "code",
   "execution_count": 8,
   "id": "dd3dde9d",
   "metadata": {},
   "outputs": [],
   "source": [
    "df.to_csv('../data/Cleaned_Online_Retail.csv', index=False)"
   ]
  }
 ],
 "metadata": {
  "kernelspec": {
   "display_name": ".venv",
   "language": "python",
   "name": "python3"
  },
  "language_info": {
   "codemirror_mode": {
    "name": "ipython",
    "version": 3
   },
   "file_extension": ".py",
   "mimetype": "text/x-python",
   "name": "python",
   "nbconvert_exporter": "python",
   "pygments_lexer": "ipython3",
   "version": "3.12.8"
  }
 },
 "nbformat": 4,
 "nbformat_minor": 5
}
