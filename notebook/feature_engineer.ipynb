{
 "cells": [
  {
   "cell_type": "markdown",
   "id": "62685192",
   "metadata": {},
   "source": [
    "# Feature Engineering Notebook\n",
    "\n",
    "This notebook performs feature engineering on the Online Retail Transactions dataset, following the feature plan in the README. The engineered dataset will be saved as `engineered_data.csv` for analysis."
   ]
  },
  {
   "cell_type": "code",
   "execution_count": 11,
   "id": "f8499089",
   "metadata": {},
   "outputs": [
    {
     "data": {
      "text/html": [
       "<div>\n",
       "<style scoped>\n",
       "    .dataframe tbody tr th:only-of-type {\n",
       "        vertical-align: middle;\n",
       "    }\n",
       "\n",
       "    .dataframe tbody tr th {\n",
       "        vertical-align: top;\n",
       "    }\n",
       "\n",
       "    .dataframe thead th {\n",
       "        text-align: right;\n",
       "    }\n",
       "</style>\n",
       "<table border=\"1\" class=\"dataframe\">\n",
       "  <thead>\n",
       "    <tr style=\"text-align: right;\">\n",
       "      <th></th>\n",
       "      <th>InvoiceNo</th>\n",
       "      <th>StockCode</th>\n",
       "      <th>Description</th>\n",
       "      <th>Quantity</th>\n",
       "      <th>InvoiceDate</th>\n",
       "      <th>UnitPrice</th>\n",
       "      <th>CustomerID</th>\n",
       "      <th>Country</th>\n",
       "    </tr>\n",
       "  </thead>\n",
       "  <tbody>\n",
       "    <tr>\n",
       "      <th>0</th>\n",
       "      <td>536365</td>\n",
       "      <td>85123A</td>\n",
       "      <td>WHITE HANGING HEART T-LIGHT HOLDER</td>\n",
       "      <td>6</td>\n",
       "      <td>2010-12-01 08:26:00</td>\n",
       "      <td>2.55</td>\n",
       "      <td>17850</td>\n",
       "      <td>United Kingdom</td>\n",
       "    </tr>\n",
       "    <tr>\n",
       "      <th>1</th>\n",
       "      <td>536365</td>\n",
       "      <td>71053</td>\n",
       "      <td>WHITE METAL LANTERN</td>\n",
       "      <td>6</td>\n",
       "      <td>2010-12-01 08:26:00</td>\n",
       "      <td>3.39</td>\n",
       "      <td>17850</td>\n",
       "      <td>United Kingdom</td>\n",
       "    </tr>\n",
       "    <tr>\n",
       "      <th>2</th>\n",
       "      <td>536365</td>\n",
       "      <td>84406B</td>\n",
       "      <td>CREAM CUPID HEARTS COAT HANGER</td>\n",
       "      <td>8</td>\n",
       "      <td>2010-12-01 08:26:00</td>\n",
       "      <td>2.75</td>\n",
       "      <td>17850</td>\n",
       "      <td>United Kingdom</td>\n",
       "    </tr>\n",
       "    <tr>\n",
       "      <th>3</th>\n",
       "      <td>536365</td>\n",
       "      <td>84029G</td>\n",
       "      <td>KNITTED UNION FLAG HOT WATER BOTTLE</td>\n",
       "      <td>6</td>\n",
       "      <td>2010-12-01 08:26:00</td>\n",
       "      <td>3.39</td>\n",
       "      <td>17850</td>\n",
       "      <td>United Kingdom</td>\n",
       "    </tr>\n",
       "    <tr>\n",
       "      <th>4</th>\n",
       "      <td>536365</td>\n",
       "      <td>84029E</td>\n",
       "      <td>RED WOOLLY HOTTIE WHITE HEART.</td>\n",
       "      <td>6</td>\n",
       "      <td>2010-12-01 08:26:00</td>\n",
       "      <td>3.39</td>\n",
       "      <td>17850</td>\n",
       "      <td>United Kingdom</td>\n",
       "    </tr>\n",
       "  </tbody>\n",
       "</table>\n",
       "</div>"
      ],
      "text/plain": [
       "   InvoiceNo StockCode                          Description  Quantity  \\\n",
       "0     536365    85123A   WHITE HANGING HEART T-LIGHT HOLDER         6   \n",
       "1     536365     71053                  WHITE METAL LANTERN         6   \n",
       "2     536365    84406B       CREAM CUPID HEARTS COAT HANGER         8   \n",
       "3     536365    84029G  KNITTED UNION FLAG HOT WATER BOTTLE         6   \n",
       "4     536365    84029E       RED WOOLLY HOTTIE WHITE HEART.         6   \n",
       "\n",
       "           InvoiceDate  UnitPrice  CustomerID         Country  \n",
       "0  2010-12-01 08:26:00       2.55       17850  United Kingdom  \n",
       "1  2010-12-01 08:26:00       3.39       17850  United Kingdom  \n",
       "2  2010-12-01 08:26:00       2.75       17850  United Kingdom  \n",
       "3  2010-12-01 08:26:00       3.39       17850  United Kingdom  \n",
       "4  2010-12-01 08:26:00       3.39       17850  United Kingdom  "
      ]
     },
     "execution_count": 11,
     "metadata": {},
     "output_type": "execute_result"
    }
   ],
   "source": [
    "import pandas as pd\n",
    "\n",
    "# Load the raw dataset\n",
    "df = pd.read_csv('../data/clean_online_retail.csv')\n",
    "df.head()"
   ]
  },
  {
   "cell_type": "markdown",
   "id": "6e3e8d53",
   "metadata": {},
   "source": [
    "## Feature: TotalPrice\n",
    "\n",
    "Pseudocode:\n",
    "- Multiply Quantity by UnitPrice to get TotalPrice per transaction."
   ]
  },
  {
   "cell_type": "code",
   "execution_count": 12,
   "id": "58f162ee",
   "metadata": {},
   "outputs": [],
   "source": [
    "df['TotalPrice'] = df['Quantity'] * df['UnitPrice']"
   ]
  },
  {
   "cell_type": "markdown",
   "id": "b3bffe96",
   "metadata": {},
   "source": [
    "## Feature: InvoiceMonth\n",
    "\n",
    "Pseudocode:\n",
    "- Extract the month from InvoiceDate for monthly analysis."
   ]
  },
  {
   "cell_type": "code",
   "execution_count": 13,
   "id": "824e997a",
   "metadata": {},
   "outputs": [],
   "source": [
    "df['InvoiceDate'] = pd.to_datetime(df['InvoiceDate'])\n",
    "df['InvoiceMonth'] = df['InvoiceDate'].dt.month"
   ]
  },
  {
   "cell_type": "markdown",
   "id": "6ec5b2e2",
   "metadata": {},
   "source": [
    "## Feature: InvoiceDayOfWeek\n",
    "\n",
    "Pseudocode:\n",
    "- Extract day of the week from InvoiceDate (0 = Monday, 6 = Sunday)."
   ]
  },
  {
   "cell_type": "code",
   "execution_count": 14,
   "id": "b03c74ac",
   "metadata": {},
   "outputs": [],
   "source": [
    "df['InvoiceDayOfWeek'] = df['InvoiceDate'].dt.dayofweek"
   ]
  },
  {
   "cell_type": "markdown",
   "id": "510a3f3d",
   "metadata": {},
   "source": [
    "## Feature: InvoiceWeekOfYear\n",
    "\n",
    "Pseudocode:\n",
    "- Extract the week number from InvoiceDate."
   ]
  },
  {
   "cell_type": "code",
   "execution_count": 15,
   "id": "b304e2ab",
   "metadata": {},
   "outputs": [],
   "source": [
    "df['InvoiceWeekOfYear'] = df['InvoiceDate'].dt.isocalendar().week"
   ]
  },
  {
   "cell_type": "markdown",
   "id": "397c0610",
   "metadata": {},
   "source": [
    "## Feature: ReturnsFlag\n",
    "\n",
    "Pseudocode:\n",
    "- Identify returns where Quantity or UnitPrice is negative.\n",
    "- If either is negative, mark as return (1), else 0."
   ]
  },
  {
   "cell_type": "code",
   "execution_count": 16,
   "id": "5eb4933c",
   "metadata": {},
   "outputs": [],
   "source": [
    "df['ReturnsFlag'] = ((df['Quantity'] < 0) | (df['UnitPrice'] < 0)).astype(int)"
   ]
  },
  {
   "cell_type": "markdown",
   "id": "5821d618",
   "metadata": {},
   "source": [
    "## Feature: Recency\n",
    "\n",
    "Pseudocode:\n",
    "- Calculate days since customer’s last purchase from reference date."
   ]
  },
  {
   "cell_type": "code",
   "execution_count": 17,
   "id": "7c11d48e",
   "metadata": {},
   "outputs": [],
   "source": [
    "reference_date = pd.to_datetime('2011-12-10')  # Example reference date\n",
    "recency_df = df.groupby('CustomerID')['InvoiceDate'].max().reset_index()\n",
    "recency_df['Recency'] = (reference_date - recency_df['InvoiceDate']).dt.days\n",
    "df = df.merge(recency_df[['CustomerID', 'Recency']], on='CustomerID', how='left')"
   ]
  },
  {
   "cell_type": "markdown",
   "id": "2aa4f75c",
   "metadata": {},
   "source": [
    "## Feature: MonetaryValue\n",
    "\n",
    "Pseudocode:\n",
    "- Calculate total spending per customer."
   ]
  },
  {
   "cell_type": "code",
   "execution_count": 18,
   "id": "8eb5b73d",
   "metadata": {},
   "outputs": [],
   "source": [
    "monetary_df = df.groupby('CustomerID')['TotalPrice'].sum().reset_index()\n",
    "monetary_df.rename(columns={'TotalPrice': 'MonetaryValue'}, inplace=True)\n",
    "df = df.merge(monetary_df, on='CustomerID', how='left')"
   ]
  },
  {
   "cell_type": "markdown",
   "id": "62ae5d27",
   "metadata": {},
   "source": [
    "## Feature: CustomerFrequency\n",
    "\n",
    "Pseudocode:\n",
    "- Count number of unique invoices per customer."
   ]
  },
  {
   "cell_type": "code",
   "execution_count": 19,
   "id": "0a48acec",
   "metadata": {},
   "outputs": [],
   "source": [
    "frequency_df = df.groupby('CustomerID')['InvoiceNo'].nunique().reset_index()\n",
    "frequency_df.rename(columns={'InvoiceNo': 'CustomerFrequency'}, inplace=True)\n",
    "df = df.merge(frequency_df, on='CustomerID', how='left')"
   ]
  },
  {
   "cell_type": "code",
   "execution_count": 20,
   "id": "ce698ac8",
   "metadata": {},
   "outputs": [],
   "source": [
    "# Save the engineered dataset\n",
    "df.to_csv('../data/engineered_data.csv', index=False)"
   ]
  }
 ],
 "metadata": {
  "kernelspec": {
   "display_name": ".venv",
   "language": "python",
   "name": "python3"
  },
  "language_info": {
   "codemirror_mode": {
    "name": "ipython",
    "version": 3
   },
   "file_extension": ".py",
   "mimetype": "text/x-python",
   "name": "python",
   "nbconvert_exporter": "python",
   "pygments_lexer": "ipython3",
   "version": "3.12.8"
  }
 },
 "nbformat": 4,
 "nbformat_minor": 5
}
